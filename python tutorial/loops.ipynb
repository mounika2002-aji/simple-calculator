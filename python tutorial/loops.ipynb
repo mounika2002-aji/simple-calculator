{
 "cells": [
  {
   "cell_type": "markdown",
   "id": "dc4771b4-7176-4584-8a59-2eb8fa9cd4c3",
   "metadata": {},
   "source": [
    "### Loops"
   ]
  },
  {
   "cell_type": "markdown",
   "id": "6f5f4fe8-2edc-49e0-afc9-877867b6b4b5",
   "metadata": {},
   "source": [
    "Flow Control: Flow control in programming refers to the mechanisms and\n",
    "structures used to manage the order of execution of statements or instructions in\n",
    "a program. It allows you to make decisions, repeat actions, and control the flow\n",
    "of your program based on certain conditions.\n"
   ]
  },
  {
   "cell_type": "markdown",
   "id": "a2a402cb-e867-470c-bfe5-9e8e6f0c764e",
   "metadata": {},
   "source": [
    "#### For Loop"
   ]
  },
  {
   "cell_type": "markdown",
   "id": "398c282d-9b0c-48e6-b774-dd2bf01fcb6f",
   "metadata": {},
   "source": [
    "A \"for loop\" is a control flow statement in programming that allows you to repeatedly\n",
    "execute a block of code a specific number of times or iterate over a sequence of\n",
    "elements (such as a list, string, array, range of numbers or any iterable object).\n",
    "In Python, the \"for loop\" is used for iterating over sequences like lists, strings,\n",
    "dictionaries, and more.\n"
   ]
  },
  {
   "cell_type": "code",
   "execution_count": null,
   "id": "854bfd84-fcdd-43c1-9aae-0559a76db265",
   "metadata": {},
   "outputs": [],
   "source": [
    "# syntax\n",
    "# for <var_name> in <sequence>:\n",
    "    # <code_block>"
   ]
  },
  {
   "cell_type": "code",
   "execution_count": 1,
   "id": "43b9a137-4c7c-4319-845f-4f55dda8ff7a",
   "metadata": {},
   "outputs": [
    {
     "name": "stdout",
     "output_type": "stream",
     "text": [
      "1\n",
      "2\n",
      "3\n",
      "4\n",
      "5\n",
      "6\n",
      "7\n",
      "8\n",
      "9\n",
      "10\n"
     ]
    }
   ],
   "source": [
    "# print the number from 1 to 10\n",
    "for num in range(1, 11):  # for loop executes 10 number of times\n",
    "    print(num)"
   ]
  },
  {
   "cell_type": "code",
   "execution_count": 2,
   "id": "0245157e-7ffe-410e-bddb-28a6aad7f255",
   "metadata": {},
   "outputs": [
    {
     "name": "stdout",
     "output_type": "stream",
     "text": [
      "P\n",
      "y\n",
      "t\n",
      "h\n",
      "o\n",
      "n\n"
     ]
    }
   ],
   "source": [
    "my_str = 'Python'\n",
    "for char in my_str: # this loop will execute 6 times\n",
    "    print(char)"
   ]
  },
  {
   "cell_type": "code",
   "execution_count": 6,
   "id": "ef0fef5d-eea2-47b2-893b-6a73e6f169e0",
   "metadata": {},
   "outputs": [
    {
     "name": "stdin",
     "output_type": "stream",
     "text": [
      "Enter a number:  7\n"
     ]
    },
    {
     "name": "stdout",
     "output_type": "stream",
     "text": [
      "1\n",
      "2\n",
      "3\n",
      "4\n",
      "5\n",
      "6\n",
      "7\n"
     ]
    }
   ],
   "source": [
    "# Q1. Take a number from the user and prints all the number from 1 to that number\n",
    "num = int(input('Enter a number: '))  # num = 5\n",
    "# o/p --> 1, 2, 3, 4, 5\n",
    "for n in range(1, num + 1):\n",
    "    print(n)"
   ]
  },
  {
   "cell_type": "code",
   "execution_count": 36,
   "id": "df8aa2cd-2bbc-40ee-9a1f-a1a939b8030b",
   "metadata": {},
   "outputs": [
    {
     "name": "stdin",
     "output_type": "stream",
     "text": [
      "Enter a number:  7\n"
     ]
    },
    {
     "name": "stdout",
     "output_type": "stream",
     "text": [
      "2\n",
      "4\n",
      "6\n"
     ]
    }
   ],
   "source": [
    "# Q2. print only even numbers from 1 to user given number\n",
    "num = int(input('Enter a number: ')) \n",
    "\n",
    "for n in range(1, num + 1):   \n",
    "    if n % 2 == 0:\n",
    "        print(n)"
   ]
  },
  {
   "cell_type": "code",
   "execution_count": null,
   "id": "545df69c-55bb-4691-87de-5264e6cb010b",
   "metadata": {},
   "outputs": [],
   "source": [
    "# this program takes the previous value of n and prints that\n",
    "num = int(input('Enter a number: ')) # num = 7\n",
    "\n",
    "for num in range(1, n + 1):   # 1 --> n = 6, num = 6\n",
    "    if num % 2 == 0:\n",
    "        print(n)"
   ]
  },
  {
   "cell_type": "code",
   "execution_count": 37,
   "id": "dc61c137-55b3-4523-81b3-b377e68c5080",
   "metadata": {
    "scrolled": true
   },
   "outputs": [
    {
     "name": "stdout",
     "output_type": "stream",
     "text": [
      "Variable   Type    Data/Info\n",
      "----------------------------\n",
      "char       str     n\n",
      "my_str     str     Python\n",
      "n          int     7\n",
      "num        int     7\n"
     ]
    }
   ],
   "source": [
    "# to check the variables in the current session\n",
    "%whos"
   ]
  },
  {
   "cell_type": "code",
   "execution_count": 33,
   "id": "5b08aa4c-c313-4ccf-bca5-ad7a77a5b46a",
   "metadata": {},
   "outputs": [],
   "source": [
    "del n"
   ]
  },
  {
   "cell_type": "code",
   "execution_count": 34,
   "id": "05a5f7ce-fc8e-4092-b981-c660fbc06b18",
   "metadata": {},
   "outputs": [],
   "source": [
    "del num"
   ]
  },
  {
   "cell_type": "code",
   "execution_count": 22,
   "id": "5feef8e7-98ad-4875-b311-bdde4fa0f9d5",
   "metadata": {},
   "outputs": [
    {
     "name": "stdout",
     "output_type": "stream",
     "text": [
      "6\n"
     ]
    }
   ],
   "source": [
    "print(num)"
   ]
  },
  {
   "cell_type": "code",
   "execution_count": 23,
   "id": "128905a2-1648-4d61-9cdf-c3b8ec435af0",
   "metadata": {},
   "outputs": [
    {
     "name": "stdout",
     "output_type": "stream",
     "text": [
      "6\n"
     ]
    }
   ],
   "source": [
    "print(n)"
   ]
  },
  {
   "cell_type": "code",
   "execution_count": 29,
   "id": "ff4b7727-e567-4168-82a8-b19e530e9f4c",
   "metadata": {},
   "outputs": [],
   "source": [
    "n = 13"
   ]
  },
  {
   "cell_type": "code",
   "execution_count": 40,
   "id": "cb176976-bce2-49df-a3b3-7b351bdbf52e",
   "metadata": {},
   "outputs": [
    {
     "name": "stdin",
     "output_type": "stream",
     "text": [
      "Enter a number:  10\n"
     ]
    },
    {
     "name": "stdout",
     "output_type": "stream",
     "text": [
      "2 --> 4\n",
      "4 --> 16\n",
      "6 --> 36\n",
      "8 --> 64\n",
      "10 --> 100\n"
     ]
    }
   ],
   "source": [
    "# Q3. print the even numbers and their squares from 2 to user given number\n",
    "# o/p:\n",
    "# 2 --> 4\n",
    "# 4 --> 16\n",
    "# 6 --> 36\n",
    "\n",
    "num = int(input('Enter a number: '))\n",
    "\n",
    "for n in range(1, num + 1):\n",
    "    if n % 2 == 0:\n",
    "        # print(n, ' --> ', n ** 2)\n",
    "        print(f'{n} --> {n ** 2}')"
   ]
  },
  {
   "cell_type": "code",
   "execution_count": 42,
   "id": "a2a99b0d-85f4-45a2-8295-bf2cced08f95",
   "metadata": {},
   "outputs": [
    {
     "name": "stdin",
     "output_type": "stream",
     "text": [
      "Enter a number:  5\n"
     ]
    },
    {
     "name": "stdout",
     "output_type": "stream",
     "text": [
      "15\n",
      "5\n"
     ]
    }
   ],
   "source": [
    "# Q4. Sum of Natural Numbers\n",
    "# Write a program to find the sum of all numbers from 1 to user given number.\n",
    "\n",
    "num = int(input('Enter a number: ')) # num = 5\n",
    "s = 0                                # s = 0\n",
    "for n in range(1, num + 1):          # n = 5   (1, 2, 3, 4, 5)\n",
    "    s += n                          # s = 15\n",
    "#    s = s + n\n",
    "print(s)\n",
    "print(n)"
   ]
  },
  {
   "cell_type": "code",
   "execution_count": null,
   "id": "8ff5f2ed-0ad6-4b3f-94c8-a4e4edb5093e",
   "metadata": {},
   "outputs": [],
   "source": [
    "# NOTE:\n",
    "# Variables defined in a for loop or an if block are not confined to those blocks. They are accessible outside the block because \n",
    "# Python does not have block-level scoping like some other languages (e.g., C++ or Java).\n",
    "# A variable declared inside a for loop or if statement belongs to the same function or global scope in which it is declared."
   ]
  },
  {
   "cell_type": "code",
   "execution_count": 54,
   "id": "253f7a2b-aae9-41a3-86d2-094c6fd529cc",
   "metadata": {},
   "outputs": [
    {
     "ename": "SyntaxError",
     "evalue": "expected ':' (3709334383.py, line 10)",
     "output_type": "error",
     "traceback": [
      "\u001b[1;36m  Cell \u001b[1;32mIn[54], line 10\u001b[1;36m\u001b[0m\n\u001b[1;33m    for i in range(start, end)  # error(colon is missing)\u001b[0m\n\u001b[1;37m                                ^\u001b[0m\n\u001b[1;31mSyntaxError\u001b[0m\u001b[1;31m:\u001b[0m expected ':'\n"
     ]
    }
   ],
   "source": [
    "# Code debugging \n",
    "\n",
    "# code 1\n",
    "\n",
    "# below code is trying to print the number and it's double from 1 to \n",
    "\n",
    "start = 1\n",
    "end = 10\n",
    "\n",
    "for i in range(start, end)  # error(colon is missing)\n",
    "    result = i * 2\n",
    "    print(\"The double of\", i, \"is\", result)\n",
    "\n",
    "result = result + 5     \n",
    "print(\"Final result:\", result) "
   ]
  },
  {
   "cell_type": "code",
   "execution_count": 46,
   "id": "8e299c8d-57e8-420f-ad76-5d8a56a964c2",
   "metadata": {},
   "outputs": [],
   "source": [
    "if 5 > 4:\n",
    "    my_var = 'Something'"
   ]
  },
  {
   "cell_type": "code",
   "execution_count": 47,
   "id": "87f4d020-f56e-45b3-b859-b410e4c885de",
   "metadata": {},
   "outputs": [
    {
     "name": "stdout",
     "output_type": "stream",
     "text": [
      "Something\n"
     ]
    }
   ],
   "source": [
    "print(my_var)"
   ]
  },
  {
   "cell_type": "code",
   "execution_count": 51,
   "id": "ebc925b9-fed6-4e09-b206-b993441e8a55",
   "metadata": {},
   "outputs": [],
   "source": [
    "del result"
   ]
  },
  {
   "cell_type": "code",
   "execution_count": 56,
   "id": "947d5535-79b2-43bc-8f94-7c0e9b392df8",
   "metadata": {},
   "outputs": [
    {
     "name": "stdout",
     "output_type": "stream",
     "text": [
      "i: 1 j: 1 Total: 2\n",
      "i: 1 j: 2 Total: 5\n",
      "i: 1 j: 3 Total: 9\n",
      "i: 1 j: 4 Total: 14\n",
      "Loop finished for i = 1\n",
      "i: 2 j: 2 Total: 18\n",
      "i: 2 j: 3 Total: 23\n",
      "i: 2 j: 4 Total: 29\n",
      "Loop finished for i = 2\n",
      "i: 3 j: 3 Total: 35\n",
      "i: 3 j: 4 Total: 42\n",
      "Loop finished for i = 3\n",
      "i: 4 j: 4 Total: 50\n",
      "Loop finished for i = 4\n",
      "Loop finished for i = 5\n",
      "Loop finished for i = 6\n",
      "Loop finished for i = 7\n",
      "Loop finished for i = 8\n",
      "Loop finished for i = 9\n",
      "Grand Total: 50\n"
     ]
    }
   ],
   "source": [
    "# code 2\n",
    "# there is no error, add brackets on line 7\n",
    "total = 0\n",
    "\n",
    "for i in range(1, 10):\n",
    "    for j in range(i, 5): \n",
    "        total += i + j\n",
    "        print(\"i:\", i, \"j:\", j, \"Total:\", total)\n",
    "\n",
    "    print(\"Loop finished for i =\", i)\n",
    "\n",
    "print(\"Grand Total:\", total)\n"
   ]
  },
  {
   "cell_type": "code",
   "execution_count": 59,
   "id": "628d7db7-fcfa-4ab7-b286-b5c24b121ed4",
   "metadata": {},
   "outputs": [
    {
     "ename": "IndentationError",
     "evalue": "expected an indented block after 'if' statement on line 7 (3194473952.py, line 8)",
     "output_type": "error",
     "traceback": [
      "\u001b[1;36m  Cell \u001b[1;32mIn[59], line 8\u001b[1;36m\u001b[0m\n\u001b[1;33m    print(\"Factorial:\", factorial)\u001b[0m\n\u001b[1;37m    ^\u001b[0m\n\u001b[1;31mIndentationError\u001b[0m\u001b[1;31m:\u001b[0m expected an indented block after 'if' statement on line 7\n"
     ]
    }
   ],
   "source": [
    "factorial = 1\n",
    "num = 5\n",
    "\n",
    "for i in range(1, num + 1):\n",
    "    factorial = factorial * i\n",
    "\n",
    "    if i > num:\n",
    "    print(\"Factorial:\", factorial)\n"
   ]
  },
  {
   "cell_type": "code",
   "execution_count": 1,
   "id": "1c4702f3-4e2e-4153-8296-576317d2746f",
   "metadata": {},
   "outputs": [
    {
     "data": {
      "text/plain": [
       "6"
      ]
     },
     "execution_count": 1,
     "metadata": {},
     "output_type": "execute_result"
    }
   ],
   "source": [
    "# Q5. find the length of given string\n",
    "# len() functions counts the number of object's in another object\n",
    "# str --> it returns the lenght of the string(number of chars)\n",
    "len('Python')"
   ]
  },
  {
   "cell_type": "code",
   "execution_count": 2,
   "id": "1c858eaf-0f04-4a6b-b19b-80bf9f727cdc",
   "metadata": {},
   "outputs": [
    {
     "data": {
      "text/plain": [
       "5"
      ]
     },
     "execution_count": 2,
     "metadata": {},
     "output_type": "execute_result"
    }
   ],
   "source": [
    "# list --> it returns the number of items present in the list\n",
    "len([1, 2, 3, 4, 5])"
   ]
  },
  {
   "cell_type": "code",
   "execution_count": 5,
   "id": "8aa359fc-52bf-48d4-abe4-54912c36b2b2",
   "metadata": {},
   "outputs": [
    {
     "name": "stdout",
     "output_type": "stream",
     "text": [
      "Variable   Type    Data/Info\n",
      "----------------------------\n",
      "my_str     str     Python\n"
     ]
    }
   ],
   "source": [
    "%whos"
   ]
  },
  {
   "cell_type": "code",
   "execution_count": 7,
   "id": "841df6bd-98b6-4494-afaa-1fd9b3abf118",
   "metadata": {},
   "outputs": [
    {
     "name": "stdin",
     "output_type": "stream",
     "text": [
      "Enter a string:  Python\n"
     ]
    },
    {
     "name": "stdout",
     "output_type": "stream",
     "text": [
      "P\n",
      "1\n",
      "y\n",
      "2\n",
      "t\n",
      "3\n",
      "h\n",
      "4\n",
      "o\n",
      "5\n",
      "n\n",
      "6\n",
      "length of the Python is 6\n"
     ]
    }
   ],
   "source": [
    "# take string as input \n",
    "# counts the number of char in the string by using loop\n",
    "# find how many iterations we performed \n",
    "# print the count of iterations\n",
    "\n",
    "my_str = input('Enter a string: ')\n",
    "\n",
    "count_itr = 0\n",
    "\n",
    "for char in my_str:\n",
    "    print(char)\n",
    "    count_itr += 1\n",
    "    print(count_itr)\n",
    "\n",
    "print(f'length of the {my_str} is {count_itr}')"
   ]
  },
  {
   "cell_type": "code",
   "execution_count": 12,
   "id": "d5ed2128-03c1-4f51-9042-a73eda9da74f",
   "metadata": {},
   "outputs": [
    {
     "name": "stdout",
     "output_type": "stream",
     "text": [
      "nohtyP\n"
     ]
    }
   ],
   "source": [
    "# Q6. Reverse a given string\n",
    "\n",
    "my_str = input('Enter a string: ')\n",
    "\n",
    "rev_str = ''\n",
    "\n",
    "for char in my_str:\n",
    "    rev_str = char + rev_str\n",
    "\n",
    "print(rev_str)"
   ]
  },
  {
   "cell_type": "code",
   "execution_count": 18,
   "id": "c287754d-1d20-4af1-877b-d28fbf9ef75e",
   "metadata": {},
   "outputs": [
    {
     "name": "stdin",
     "output_type": "stream",
     "text": [
      "Enter a string in lowercase:  madam\n"
     ]
    },
    {
     "name": "stdout",
     "output_type": "stream",
     "text": [
      "madam is a palindrome string\n"
     ]
    }
   ],
   "source": [
    "# Q7. Python program to check if the given string is a palindrome\n",
    "# madam --> is a palindrome\n",
    "# madam\n",
    "\n",
    "# pop --> is a palindrome\n",
    "# pop\n",
    "\n",
    "# racecar  --> is a palindrome\n",
    "# racecar\n",
    "\n",
    "# python  --> not a palindrome\n",
    "# nohtyp\n",
    "\n",
    "\n",
    "my_str = input('Enter a string in lowercase: ')\n",
    "\n",
    "rev_str = ''\n",
    "\n",
    "for char in my_str:\n",
    "    rev_str = char + rev_str\n",
    "\n",
    "if my_str == rev_str:\n",
    "    print(f'{my_str} is a palindrome string')\n",
    "else:\n",
    "    print(f'{my_str} is not a palindrome string')\n"
   ]
  },
  {
   "cell_type": "code",
   "execution_count": 20,
   "id": "32654958-2f19-4c0f-8824-bf84cd3c2353",
   "metadata": {},
   "outputs": [
    {
     "name": "stdin",
     "output_type": "stream",
     "text": [
      "Enter a number:  456\n"
     ]
    },
    {
     "name": "stdout",
     "output_type": "stream",
     "text": [
      "456 * 1 = 456\n",
      "456 * 2 = 912\n",
      "456 * 3 = 1368\n",
      "456 * 4 = 1824\n",
      "456 * 5 = 2280\n",
      "456 * 6 = 2736\n",
      "456 * 7 = 3192\n",
      "456 * 8 = 3648\n",
      "456 * 9 = 4104\n",
      "456 * 10 = 4560\n"
     ]
    }
   ],
   "source": [
    "# Q8. Print a multiplication table of a given number\n",
    "# 7 * 1 = 7\n",
    "# 7 * 2 = 14\n",
    "# 7 * 3 = 21\n",
    "# .\n",
    "# .\n",
    "# .\n",
    "# 7 * 10 = 70\n",
    "\n",
    "\n",
    "num = int(input('Enter a number: '))\n",
    "\n",
    "for i in range(1, 11):\n",
    "    print(f'{num} * {i} = {num * i}')"
   ]
  },
  {
   "cell_type": "code",
   "execution_count": null,
   "id": "d85114bd-3300-458b-b594-c602ec283fa8",
   "metadata": {},
   "outputs": [],
   "source": []
  }
 ],
 "metadata": {
  "kernelspec": {
   "display_name": "Python 3 (ipykernel)",
   "language": "python",
   "name": "python3"
  },
  "language_info": {
   "codemirror_mode": {
    "name": "ipython",
    "version": 3
   },
   "file_extension": ".py",
   "mimetype": "text/x-python",
   "name": "python",
   "nbconvert_exporter": "python",
   "pygments_lexer": "ipython3",
   "version": "3.13.1"
  }
 },
 "nbformat": 4,
 "nbformat_minor": 5
}
