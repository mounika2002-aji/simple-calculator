{
 "cells": [
  {
   "cell_type": "markdown",
   "id": "53026f70-ddfe-49dd-a9da-7ac2c15ef1a6",
   "metadata": {
    "jp-MarkdownHeadingCollapsed": true
   },
   "source": [
    "### String\n",
    "In Python, a string is a data type used to represent a sequence of characters. It is one\n",
    "of the built-in data types and is commonly used for working with textual data. Python\n",
    "strings are typically enclosed within either single quotes (') or double quotes (\").\n",
    "\n",
    "Strings are immutable(can not change)"
   ]
  },
  {
   "cell_type": "code",
   "execution_count": 4,
   "id": "41ac7d7a-7093-4b7d-a4bf-ffc8092ad34f",
   "metadata": {},
   "outputs": [],
   "source": [
    "# Using single quotes\n",
    "my_string_single = 'This is a string using single quotes.'\n",
    "# Using double quotes\n",
    "my_string_double = \"This is a string using double quotes.\"\n",
    "# You can also use triple quotes for multi-line strings\n",
    "multi_line_string = '''This is a multi-line string.\n",
    "It spans multiple lines and uses triple quotes.'''\n"
   ]
  },
  {
   "cell_type": "markdown",
   "id": "df026e71-d672-4934-a506-16ab45f02ba7",
   "metadata": {
    "jp-MarkdownHeadingCollapsed": true
   },
   "source": [
    "#### Multi-line comment Vs multi-line string"
   ]
  },
  {
   "cell_type": "code",
   "execution_count": 1,
   "id": "5c7f71f4-2de0-4c00-af1b-9f5613d401cf",
   "metadata": {},
   "outputs": [
    {
     "data": {
      "text/plain": [
       "'This is \\nmulti line \\ncomment.\\nWhen we do not \\nstore this in a variable\\nat that time it is \\na multi line comment'"
      ]
     },
     "execution_count": 1,
     "metadata": {},
     "output_type": "execute_result"
    }
   ],
   "source": [
    "'''This is \n",
    "multi line \n",
    "comment.\n",
    "When we do not \n",
    "store this in a variable\n",
    "at that time it is \n",
    "a multi line comment'''"
   ]
  },
  {
   "cell_type": "code",
   "execution_count": 2,
   "id": "e1f55396-66f8-4d30-ba4b-f7634152c8f5",
   "metadata": {},
   "outputs": [],
   "source": [
    "multi_line_str = '''\n",
    "This is an example\n",
    "of multiline string.\n",
    "A string in triple quotes \n",
    "stored in a variable\n",
    "is a multi line string'''"
   ]
  },
  {
   "cell_type": "code",
   "execution_count": 3,
   "id": "179524ec-1d4a-4a26-9695-9239c4781d81",
   "metadata": {},
   "outputs": [
    {
     "name": "stdout",
     "output_type": "stream",
     "text": [
      "\n",
      "This is an example\n",
      "of multiline string.\n",
      "A string in triple quotes \n",
      "stored in a variable\n",
      "is a multi line string\n"
     ]
    }
   ],
   "source": [
    "print(multi_line_str)"
   ]
  },
  {
   "cell_type": "markdown",
   "id": "c00097d2-57c5-4289-bdc8-13ae0d832bb1",
   "metadata": {
    "jp-MarkdownHeadingCollapsed": true
   },
   "source": [
    "#### concatenation(+)\n",
    "joining two or more chars/strings using + operator"
   ]
  },
  {
   "cell_type": "code",
   "execution_count": 5,
   "id": "e64bc51f-f399-4704-8d95-73777f2b8f77",
   "metadata": {},
   "outputs": [
    {
     "data": {
      "text/plain": [
       "'Hello world!'"
      ]
     },
     "execution_count": 5,
     "metadata": {},
     "output_type": "execute_result"
    }
   ],
   "source": [
    "'Hello' + ' ' + 'world!'"
   ]
  },
  {
   "cell_type": "code",
   "execution_count": 6,
   "id": "5a4b26e6-22bc-4f89-81e3-5c43b7a8ad9a",
   "metadata": {},
   "outputs": [],
   "source": [
    "first_name = 'Alice'\n",
    "last_name = 'Johnson'"
   ]
  },
  {
   "cell_type": "code",
   "execution_count": 8,
   "id": "89a3ceb2-9a59-4631-b867-0f4624a604ec",
   "metadata": {},
   "outputs": [
    {
     "data": {
      "text/plain": [
       "'Alice Johnson'"
      ]
     },
     "execution_count": 8,
     "metadata": {},
     "output_type": "execute_result"
    }
   ],
   "source": [
    "full_name = first_name + ' ' + last_name\n",
    "full_name"
   ]
  },
  {
   "cell_type": "markdown",
   "id": "1b3fac85-d5b8-42ee-86cc-1aca85d7f043",
   "metadata": {
    "jp-MarkdownHeadingCollapsed": true
   },
   "source": [
    "#### Repetition (*): \n",
    "The * operator allows you to repeat a string a specified number of times"
   ]
  },
  {
   "cell_type": "code",
   "execution_count": 39,
   "id": "34f9766e-106a-4125-8ddb-a62e1e0cfc26",
   "metadata": {},
   "outputs": [
    {
     "data": {
      "text/plain": [
       "'PythonPythonPython'"
      ]
     },
     "execution_count": 39,
     "metadata": {},
     "output_type": "execute_result"
    }
   ],
   "source": [
    "word = \"Python\"\n",
    "word * 3"
   ]
  },
  {
   "cell_type": "markdown",
   "id": "e99da580-8dfc-45f7-b766-6079c858271a",
   "metadata": {
    "jp-MarkdownHeadingCollapsed": true
   },
   "source": [
    "#### Slicing\n",
    "Slicing is the extraction of a substring from a string.\n",
    "\n",
    "Slicing allows you to extract a portion of a string. You can specify a start index,\n",
    "an end index, and an optional step value."
   ]
  },
  {
   "cell_type": "markdown",
   "id": "bd2faef6-3331-4200-b2d6-3fdc7bc7829d",
   "metadata": {
    "jp-MarkdownHeadingCollapsed": true
   },
   "source": [
    "##### Accessing chars by index"
   ]
  },
  {
   "cell_type": "code",
   "execution_count": 9,
   "id": "9e8f5db9-3068-4a22-8977-81a7af34686d",
   "metadata": {},
   "outputs": [],
   "source": [
    "# indexing\n",
    "# it's a position of chars\n",
    "# index starts from 0"
   ]
  },
  {
   "cell_type": "code",
   "execution_count": 10,
   "id": "2d9b50b1-52e1-407c-9001-deac1052d221",
   "metadata": {},
   "outputs": [],
   "source": [
    "# chars --> H e l l o\n",
    "# indices ->0 1 2 3 4"
   ]
  },
  {
   "cell_type": "code",
   "execution_count": 11,
   "id": "42ad81df-c720-4666-9cf5-90f52d703b3b",
   "metadata": {},
   "outputs": [],
   "source": [
    "my_str = 'Python'"
   ]
  },
  {
   "cell_type": "code",
   "execution_count": 12,
   "id": "f03c6ee0-a75a-4926-baa5-44b6253ea413",
   "metadata": {},
   "outputs": [],
   "source": [
    "# syntax to access the chars by using index\n",
    "# <var_name>[<index>]"
   ]
  },
  {
   "cell_type": "code",
   "execution_count": 13,
   "id": "2edc0798-4e75-4299-9984-673613e9ff59",
   "metadata": {},
   "outputs": [
    {
     "data": {
      "text/plain": [
       "'P'"
      ]
     },
     "execution_count": 13,
     "metadata": {},
     "output_type": "execute_result"
    }
   ],
   "source": [
    "my_str[0]"
   ]
  },
  {
   "cell_type": "code",
   "execution_count": 14,
   "id": "66acf7b1-4d18-4c0d-a99c-58c88fa86974",
   "metadata": {},
   "outputs": [
    {
     "data": {
      "text/plain": [
       "'y'"
      ]
     },
     "execution_count": 14,
     "metadata": {},
     "output_type": "execute_result"
    }
   ],
   "source": [
    "my_str[1]"
   ]
  },
  {
   "cell_type": "code",
   "execution_count": 15,
   "id": "dfb72220-ec98-4c7c-81cc-b66a9edc92e4",
   "metadata": {},
   "outputs": [
    {
     "data": {
      "text/plain": [
       "'t'"
      ]
     },
     "execution_count": 15,
     "metadata": {},
     "output_type": "execute_result"
    }
   ],
   "source": [
    "my_str[2]"
   ]
  },
  {
   "cell_type": "code",
   "execution_count": null,
   "id": "56ffc54f-a560-43b1-aa5a-3191de9002e9",
   "metadata": {},
   "outputs": [],
   "source": [
    "# negative indexing\n",
    "# negative indexing starts from the end char of the string\n",
    "\n",
    "#  0  1  2  3  4   <-- positive indexing\n",
    "#  H  e  l  l  o\n",
    "# -5 -4 -3 -2 -1  <-- negative indexing"
   ]
  },
  {
   "cell_type": "code",
   "execution_count": 24,
   "id": "40604368-9ca6-466d-9044-adcd9e110b74",
   "metadata": {},
   "outputs": [],
   "source": [
    "new_str = \"Hello\""
   ]
  },
  {
   "cell_type": "code",
   "execution_count": 27,
   "id": "480f1a9c-2d78-4762-842d-3b0934729a09",
   "metadata": {},
   "outputs": [
    {
     "data": {
      "text/plain": [
       "'e'"
      ]
     },
     "execution_count": 27,
     "metadata": {},
     "output_type": "execute_result"
    }
   ],
   "source": [
    "new_str[-4]"
   ]
  },
  {
   "cell_type": "code",
   "execution_count": 28,
   "id": "c654afd8-8e2c-4816-b7c3-1a9dd643b0df",
   "metadata": {},
   "outputs": [
    {
     "data": {
      "text/plain": [
       "'o'"
      ]
     },
     "execution_count": 28,
     "metadata": {},
     "output_type": "execute_result"
    }
   ],
   "source": [
    "new_str[-1]"
   ]
  },
  {
   "cell_type": "markdown",
   "id": "7c11304a-addf-4088-98eb-7e7dc0268ae5",
   "metadata": {
    "jp-MarkdownHeadingCollapsed": true
   },
   "source": [
    "##### string slicing"
   ]
  },
  {
   "cell_type": "code",
   "execution_count": 16,
   "id": "08f40b4e-d882-4e44-a564-36efdd09de38",
   "metadata": {},
   "outputs": [
    {
     "data": {
      "text/plain": [
       "'Python'"
      ]
     },
     "execution_count": 16,
     "metadata": {},
     "output_type": "execute_result"
    }
   ],
   "source": [
    "my_str"
   ]
  },
  {
   "cell_type": "code",
   "execution_count": 17,
   "id": "3c768a87-bde5-49f2-92ef-b3be64f11459",
   "metadata": {},
   "outputs": [],
   "source": [
    "# syntax\n",
    "# <var_name>[start : end : step]\n",
    "# end is exclusive"
   ]
  },
  {
   "cell_type": "code",
   "execution_count": 18,
   "id": "598c6b43-0098-4a2f-b738-145b3325754d",
   "metadata": {},
   "outputs": [
    {
     "data": {
      "text/plain": [
       "'tho'"
      ]
     },
     "execution_count": 18,
     "metadata": {},
     "output_type": "execute_result"
    }
   ],
   "source": [
    "my_str[2 : 5]"
   ]
  },
  {
   "cell_type": "code",
   "execution_count": 19,
   "id": "3492caee-b4ca-4928-9ca1-d6b83de81fe9",
   "metadata": {},
   "outputs": [
    {
     "data": {
      "text/plain": [
       "'yth'"
      ]
     },
     "execution_count": 19,
     "metadata": {},
     "output_type": "execute_result"
    }
   ],
   "source": [
    "# yth\n",
    "my_str[1 : 4]"
   ]
  },
  {
   "cell_type": "code",
   "execution_count": 21,
   "id": "8adf5927-cbbc-46c7-a64e-ebbfbe094efe",
   "metadata": {},
   "outputs": [
    {
     "data": {
      "text/plain": [
       "'Pto'"
      ]
     },
     "execution_count": 21,
     "metadata": {},
     "output_type": "execute_result"
    }
   ],
   "source": [
    "# Pto\n",
    "my_str[ : : 2]"
   ]
  },
  {
   "cell_type": "code",
   "execution_count": null,
   "id": "84a90bdb-d518-40cb-b566-4645dbd7052b",
   "metadata": {},
   "outputs": [],
   "source": [
    "# default indices\n",
    "# when step is positive\n",
    "# start --> 0\n",
    "# end --> end of string\n",
    "\n",
    "# when step is negative\n",
    "# start --> -1\n",
    "# end --> start of the string"
   ]
  },
  {
   "cell_type": "code",
   "execution_count": 29,
   "id": "2ce21e22-a4c3-40e5-addf-54a0400a6be3",
   "metadata": {},
   "outputs": [
    {
     "data": {
      "text/plain": [
       "'tho'"
      ]
     },
     "execution_count": 29,
     "metadata": {},
     "output_type": "execute_result"
    }
   ],
   "source": [
    "# 'tho'\n",
    "my_str[-4 : -1]"
   ]
  },
  {
   "cell_type": "code",
   "execution_count": 30,
   "id": "5527e8ab-b105-4145-b5c6-8859bb04d01b",
   "metadata": {},
   "outputs": [
    {
     "data": {
      "text/plain": [
       "'yth'"
      ]
     },
     "execution_count": 30,
     "metadata": {},
     "output_type": "execute_result"
    }
   ],
   "source": [
    "# yth\n",
    "my_str[-5 : -2]"
   ]
  },
  {
   "cell_type": "code",
   "execution_count": 32,
   "id": "21a02133-b871-4741-9bd2-92e2f0a9c369",
   "metadata": {},
   "outputs": [
    {
     "data": {
      "text/plain": [
       "'Pto'"
      ]
     },
     "execution_count": 32,
     "metadata": {},
     "output_type": "execute_result"
    }
   ],
   "source": [
    "# Pto\n",
    "my_str[-6 : -1 : 2]"
   ]
  },
  {
   "cell_type": "code",
   "execution_count": 33,
   "id": "f59ae2a3-a75b-484f-89cf-6e461fced76b",
   "metadata": {},
   "outputs": [
    {
     "data": {
      "text/plain": [
       "'nohtyP'"
      ]
     },
     "execution_count": 33,
     "metadata": {},
     "output_type": "execute_result"
    }
   ],
   "source": [
    "# printing a string in reverse order\n",
    "my_str[ : : -1]"
   ]
  },
  {
   "cell_type": "code",
   "execution_count": 35,
   "id": "ee22ca9b-f81b-4ce1-bb7d-86ca32393b68",
   "metadata": {},
   "outputs": [
    {
     "data": {
      "text/plain": [
       "'Python'"
      ]
     },
     "execution_count": 35,
     "metadata": {},
     "output_type": "execute_result"
    }
   ],
   "source": [
    "my_str"
   ]
  },
  {
   "cell_type": "markdown",
   "id": "00b20a98-ce3a-4468-a572-232c6a43abfe",
   "metadata": {
    "jp-MarkdownHeadingCollapsed": true
   },
   "source": [
    "##### String Length: \n",
    "To find the length (the number of characters) of a string, you can use\n",
    "the len() function:"
   ]
  },
  {
   "cell_type": "code",
   "execution_count": 37,
   "id": "8d131a98-651c-4eaf-9e91-145bc84dca50",
   "metadata": {},
   "outputs": [
    {
     "data": {
      "text/plain": [
       "'Python'"
      ]
     },
     "execution_count": 37,
     "metadata": {},
     "output_type": "execute_result"
    }
   ],
   "source": [
    "my_str"
   ]
  },
  {
   "cell_type": "code",
   "execution_count": 36,
   "id": "27d219c4-7905-489e-9adf-66b43caeb0e6",
   "metadata": {},
   "outputs": [
    {
     "data": {
      "text/plain": [
       "6"
      ]
     },
     "execution_count": 36,
     "metadata": {},
     "output_type": "execute_result"
    }
   ],
   "source": [
    "len(my_str)"
   ]
  },
  {
   "cell_type": "markdown",
   "id": "4fee2fab-f0da-4e64-b54d-8d174d8d4bc7",
   "metadata": {
    "jp-MarkdownHeadingCollapsed": true
   },
   "source": [
    "##### Iterating Over Characters: \n",
    "You can use a for loop to iterate over each character in a\n",
    "string"
   ]
  },
  {
   "cell_type": "code",
   "execution_count": 38,
   "id": "38173be0-61f4-48ec-8b5b-a46304384506",
   "metadata": {},
   "outputs": [
    {
     "name": "stdout",
     "output_type": "stream",
     "text": [
      "H\n",
      "e\n",
      "l\n",
      "l\n",
      "o\n",
      ",\n",
      " \n",
      "W\n",
      "o\n",
      "r\n",
      "l\n",
      "d\n",
      "!\n"
     ]
    }
   ],
   "source": [
    "some_str = \"Hello, World!\"\n",
    "for char in some_str:\n",
    "    print(char)"
   ]
  },
  {
   "cell_type": "code",
   "execution_count": 40,
   "id": "dc39424c-48f0-43ce-8ac2-6533e17db20a",
   "metadata": {},
   "outputs": [
    {
     "name": "stdout",
     "output_type": "stream",
     "text": [
      "P\n",
      "y\n",
      "t\n",
      "h\n",
      "o\n",
      "n\n"
     ]
    }
   ],
   "source": [
    "# iterating by indices\n",
    "for i in range(len(my_str)):\n",
    "    print(my_str[i])"
   ]
  },
  {
   "cell_type": "code",
   "execution_count": 41,
   "id": "7222330a-792a-42fd-a152-c38fe8a79100",
   "metadata": {},
   "outputs": [
    {
     "name": "stdout",
     "output_type": "stream",
     "text": [
      "P\n",
      "y\n",
      "t\n",
      "h\n",
      "o\n",
      "n\n"
     ]
    }
   ],
   "source": [
    "for char in my_str:\n",
    "    print(char)"
   ]
  },
  {
   "cell_type": "markdown",
   "id": "846aa05c-76b0-4c60-adcb-13d2dc67243f",
   "metadata": {
    "jp-MarkdownHeadingCollapsed": true
   },
   "source": [
    "##### Membership (in and not in): \n",
    "You can use the in operator to check if a substring exists\n",
    "within a string. The not in operator checks if a substring is not present."
   ]
  },
  {
   "cell_type": "code",
   "execution_count": 1,
   "id": "8cced94d-76e4-4ce9-9c93-18c3e85ddebc",
   "metadata": {},
   "outputs": [],
   "source": [
    "sentence = \"This is a sample sentence.\"\n",
    "check1 = \"sample\" in sentence\n",
    "check2 = \"not\" not in sentence\n",
    "# check1 will be True, check2 will be True"
   ]
  },
  {
   "cell_type": "code",
   "execution_count": 2,
   "id": "3b031eb0-1e07-4bdb-a7b4-eaf24f2c51bc",
   "metadata": {},
   "outputs": [
    {
     "data": {
      "text/plain": [
       "True"
      ]
     },
     "execution_count": 2,
     "metadata": {},
     "output_type": "execute_result"
    }
   ],
   "source": [
    "check1"
   ]
  },
  {
   "cell_type": "code",
   "execution_count": 3,
   "id": "5d6e540d-d645-470b-b605-20f1136fb9db",
   "metadata": {},
   "outputs": [
    {
     "data": {
      "text/plain": [
       "True"
      ]
     },
     "execution_count": 3,
     "metadata": {},
     "output_type": "execute_result"
    }
   ],
   "source": [
    "check2"
   ]
  },
  {
   "cell_type": "markdown",
   "id": "cb8aef31-2562-455d-99e8-bf2194b843a8",
   "metadata": {
    "jp-MarkdownHeadingCollapsed": true
   },
   "source": [
    "##### String Formatting (% or .format()): \n",
    "Python allows you to format strings using\n",
    "placeholders and substitution values. You can use the % operator (old-style formatting)\n",
    "or the .format() method (preferred in modern Python) for string formatting.\n"
   ]
  },
  {
   "cell_type": "code",
   "execution_count": 4,
   "id": "4a1d2a31-708a-4fe7-9644-fa50829e1129",
   "metadata": {},
   "outputs": [],
   "source": [
    "name = \"Alice\"\n",
    "age = 30\n",
    "formatted_str_1 = \"My name is %s, and I am %d years old.\" % (name, age)\n",
    "# formatted_str will be \"My name is Alice, and I am 30 years old.\"\n",
    "formatted_str_2 = \"My name is {}, and I am {} years old.\".format(name, age)\n",
    "# formatted_str will be \"My name is Alice, and I am 30 years old.\"\n",
    "formatted_str_3 = f\"My name is {name}, and I am {age} years old.\""
   ]
  },
  {
   "cell_type": "code",
   "execution_count": 5,
   "id": "4e24b07f-199d-45da-8793-cf0d7e4c332c",
   "metadata": {},
   "outputs": [
    {
     "data": {
      "text/plain": [
       "'My name is Alice, and I am 30 years old.'"
      ]
     },
     "execution_count": 5,
     "metadata": {},
     "output_type": "execute_result"
    }
   ],
   "source": [
    "formatted_str_1"
   ]
  },
  {
   "cell_type": "code",
   "execution_count": 6,
   "id": "7c4eca5a-d25e-4971-824b-98a8846aa70a",
   "metadata": {},
   "outputs": [
    {
     "data": {
      "text/plain": [
       "'My name is Alice, and I am 30 years old.'"
      ]
     },
     "execution_count": 6,
     "metadata": {},
     "output_type": "execute_result"
    }
   ],
   "source": [
    "formatted_str_2"
   ]
  },
  {
   "cell_type": "code",
   "execution_count": 7,
   "id": "46c937b6-a692-4896-91d9-04ada9cdddc8",
   "metadata": {},
   "outputs": [
    {
     "data": {
      "text/plain": [
       "'My name is Alice, and I am 30 years old.'"
      ]
     },
     "execution_count": 7,
     "metadata": {},
     "output_type": "execute_result"
    }
   ],
   "source": [
    "formatted_str_3"
   ]
  },
  {
   "cell_type": "markdown",
   "id": "e5dc95cc-94cb-4195-bc6e-9e138832cdb6",
   "metadata": {
    "jp-MarkdownHeadingCollapsed": true
   },
   "source": [
    "##### String Comparison (==, !=, <, <=, >, >=): \n",
    "You can compare strings using these\n",
    "operators to check for equality or perform lexicographic (dictionary-style) comparisons.\n"
   ]
  },
  {
   "cell_type": "code",
   "execution_count": 8,
   "id": "d11ee875-35eb-4913-8745-75c4c7a46305",
   "metadata": {},
   "outputs": [
    {
     "data": {
      "text/plain": [
       "False"
      ]
     },
     "execution_count": 8,
     "metadata": {},
     "output_type": "execute_result"
    }
   ],
   "source": [
    "str1 = \"apple\"\n",
    "str2 = \"banana\"\n",
    "str1 == str2 # False"
   ]
  },
  {
   "cell_type": "code",
   "execution_count": 9,
   "id": "226dd59c-b944-4b74-ac93-21c0dea931d7",
   "metadata": {},
   "outputs": [
    {
     "data": {
      "text/plain": [
       "True"
      ]
     },
     "execution_count": 9,
     "metadata": {},
     "output_type": "execute_result"
    }
   ],
   "source": [
    "str1 < str2"
   ]
  },
  {
   "cell_type": "code",
   "execution_count": 10,
   "id": "fd741b34-2d23-49d1-b7eb-037d2c7fc40d",
   "metadata": {},
   "outputs": [
    {
     "data": {
      "text/plain": [
       "True"
      ]
     },
     "execution_count": 10,
     "metadata": {},
     "output_type": "execute_result"
    }
   ],
   "source": [
    "'Apple' < 'apple'"
   ]
  },
  {
   "cell_type": "code",
   "execution_count": 12,
   "id": "5fc53b49-7c08-4196-b526-c36bf531d673",
   "metadata": {},
   "outputs": [
    {
     "data": {
      "text/plain": [
       "False"
      ]
     },
     "execution_count": 12,
     "metadata": {},
     "output_type": "execute_result"
    }
   ],
   "source": [
    "'hello' < 'hellm'"
   ]
  },
  {
   "cell_type": "markdown",
   "id": "32b928b9-df31-4c50-8751-8304be1df89e",
   "metadata": {
    "jp-MarkdownHeadingCollapsed": true
   },
   "source": [
    "##### Traversing a String\n",
    "Traversing a string means iterating through each character in the string one by one. You\n",
    "can use various methods to traverse a string in Python, including for loops, while loops,\n",
    "and indexing. Here are examples of different ways to traverse a string:\n",
    "Using a for Loop: You can use a for loop to iterate through each character in a string\n"
   ]
  },
  {
   "cell_type": "markdown",
   "id": "91bb20a5-9e20-453d-8dd9-62a5f4646bbe",
   "metadata": {
    "jp-MarkdownHeadingCollapsed": true
   },
   "source": [
    "##### Using a for Loop: You can use a for loop to iterate through each character in a string"
   ]
  },
  {
   "cell_type": "code",
   "execution_count": 13,
   "id": "9aa7ee6c-bb2c-4dcf-aeff-8213784d85d8",
   "metadata": {},
   "outputs": [
    {
     "name": "stdout",
     "output_type": "stream",
     "text": [
      "a\n",
      "p\n",
      "p\n",
      "l\n",
      "e\n"
     ]
    }
   ],
   "source": [
    "for char in str1:\n",
    "    print(char)"
   ]
  },
  {
   "cell_type": "code",
   "execution_count": 14,
   "id": "9da9b132-2344-4f55-b63e-850d065127d1",
   "metadata": {},
   "outputs": [
    {
     "name": "stdout",
     "output_type": "stream",
     "text": [
      "a\n",
      "p\n",
      "p\n",
      "l\n",
      "e\n"
     ]
    }
   ],
   "source": [
    "for i in range(len(str1)):\n",
    "    print(str1[i])"
   ]
  },
  {
   "cell_type": "markdown",
   "id": "6ed483ba-51eb-413b-b1ef-bcf51b0f6270",
   "metadata": {
    "jp-MarkdownHeadingCollapsed": true
   },
   "source": [
    "##### Using a while Loop with Indexing: \n",
    "You can also use a while loop with indexing to\n",
    "traverse a string:"
   ]
  },
  {
   "cell_type": "code",
   "execution_count": 15,
   "id": "29acca06-c8f1-4edc-aa9e-fe1f31b6e1ab",
   "metadata": {},
   "outputs": [
    {
     "name": "stdout",
     "output_type": "stream",
     "text": [
      "a\n",
      "p\n",
      "p\n",
      "l\n",
      "e\n"
     ]
    }
   ],
   "source": [
    "i = 0\n",
    "while i < len(str1):\n",
    "    print(str1[i])\n",
    "    i += 1"
   ]
  },
  {
   "cell_type": "markdown",
   "id": "85ab1b22-bd28-4873-951a-dda7295ee40b",
   "metadata": {},
   "source": [
    "#### Examples"
   ]
  },
  {
   "cell_type": "code",
   "execution_count": 31,
   "id": "f4c0a09d-23c4-4a42-b599-c6696675a541",
   "metadata": {},
   "outputs": [],
   "source": [
    "# Q.1 create a function that accepts a word from the user and reverses it.\n",
    "\n",
    "def reverse_str(my_str):\n",
    "    # 1. use slicing\n",
    "    # return my_str[ : : -1]\n",
    "\n",
    "    # using while loop\n",
    "    rev_str = ''\n",
    "    i = 0\n",
    "    while i < len(my_str):\n",
    "        rev_str = my_str[i] + rev_str\n",
    "        i += 1\n",
    "    return rev_str"
   ]
  },
  {
   "cell_type": "code",
   "execution_count": 32,
   "id": "f69ebc55-02b1-4fda-9033-971a06d5d07a",
   "metadata": {},
   "outputs": [
    {
     "name": "stdout",
     "output_type": "stream",
     "text": [
      "Enter a string:  Hello\n"
     ]
    },
    {
     "data": {
      "text/plain": [
       "'olleH'"
      ]
     },
     "execution_count": 32,
     "metadata": {},
     "output_type": "execute_result"
    }
   ],
   "source": [
    "my_str = input('Enter a string: ')\n",
    "reverse_str(my_str)"
   ]
  },
  {
   "cell_type": "code",
   "execution_count": 36,
   "id": "c5fde3a0-1d3e-4214-82bd-6da0c31cba19",
   "metadata": {},
   "outputs": [
    {
     "name": "stdout",
     "output_type": "stream",
     "text": [
      "look 2\n",
      "the 3\n",
      "in 1\n",
      "lookavailable 1\n",
      "document. 1\n",
      "of 1\n",
      "gallery 1\n",
      "To 2\n",
      "your 1\n",
      "overall 1\n",
      "change 2\n"
     ]
    }
   ],
   "source": [
    "# lab Q1. Write a Python program to count the occurrences of each word in a\n",
    "# given sentence\n",
    "string = \"To change the overall look of your document. To change the lookavailable in the gallery\"\n",
    "\n",
    "for word in set(string.split()):\n",
    "    print(word, string.count(word))"
   ]
  },
  {
   "cell_type": "code",
   "execution_count": 43,
   "id": "2dc0cf69-1da7-4c09-a407-4e36c1798ecd",
   "metadata": {},
   "outputs": [
    {
     "data": {
      "text/plain": [
       "'Best Deeptech Python Training'"
      ]
     },
     "execution_count": 43,
     "metadata": {},
     "output_type": "execute_result"
    }
   ],
   "source": [
    "# lab Q2. Write a Python program to remove a newline in Python\n",
    "string = \"\\nBest \\nDeeptech \\nPython \\nTraining\\n\"\n",
    "new_str = ''\n",
    "\n",
    "for char in string:\n",
    "    if char not in '\\n':\n",
    "        new_str += char\n",
    "\n",
    "new_str"
   ]
  },
  {
   "cell_type": "code",
   "execution_count": 46,
   "id": "9306dffb-94f4-4ecb-a3e6-7755940594a9",
   "metadata": {},
   "outputs": [
    {
     "data": {
      "text/plain": [
       "'Best Deeptech Python Training'"
      ]
     },
     "execution_count": 46,
     "metadata": {},
     "output_type": "execute_result"
    }
   ],
   "source": [
    "string.replace('\\n', '')"
   ]
  },
  {
   "cell_type": "code",
   "execution_count": 51,
   "id": "0c17f7a1-beb5-4d99-a242-d475b299a409",
   "metadata": {},
   "outputs": [
    {
     "data": {
      "text/plain": [
       "'hcetpeeD nohtyP gniniarT '"
      ]
     },
     "execution_count": 51,
     "metadata": {},
     "output_type": "execute_result"
    }
   ],
   "source": [
    "# lab Q3. Write a Python program to reverse words in a string\n",
    "string = 'Deeptech Python Training'\n",
    "\n",
    "def rev_word(word):\n",
    "    return word[ : : -1]\n",
    "\n",
    "rev_word_str = ''\n",
    "\n",
    "for word in string.split():\n",
    "    rev_word_str += rev_word(word) + ' '\n",
    "\n",
    "rev_word_str"
   ]
  },
  {
   "cell_type": "code",
   "execution_count": 55,
   "id": "543678bf-7b6a-48dc-9c88-2d1d2bf19c96",
   "metadata": {},
   "outputs": [
    {
     "name": "stdout",
     "output_type": "stream",
     "text": [
      "{'e': 2, 'o': 3, 'a': 1, 'i': 2}\n"
     ]
    }
   ],
   "source": [
    "# lab Q4. Write a Python program to count and display the vowels of a given text\n",
    "vowels = 'aeiou'\n",
    "vowel_cnt = {}\n",
    "for char in string:\n",
    "    if char.lower() in vowel_cnt:\n",
    "        vowel_cnt[char.lower()] += 1\n",
    "    elif char.lower() in vowels:\n",
    "        vowel_cnt[char.lower()] = 1\n",
    "\n",
    "print(vowel_cnt)"
   ]
  },
  {
   "cell_type": "markdown",
   "id": "2b1e219f-16cb-4a40-a1b3-2ff233593cd9",
   "metadata": {
    "jp-MarkdownHeadingCollapsed": true
   },
   "source": [
    "### String methods"
   ]
  },
  {
   "cell_type": "code",
   "execution_count": 56,
   "id": "7ed7358c-6889-4167-a76f-3951397312fd",
   "metadata": {},
   "outputs": [
    {
     "data": {
      "text/plain": [
       "['__add__',\n",
       " '__class__',\n",
       " '__contains__',\n",
       " '__delattr__',\n",
       " '__dir__',\n",
       " '__doc__',\n",
       " '__eq__',\n",
       " '__format__',\n",
       " '__ge__',\n",
       " '__getattribute__',\n",
       " '__getitem__',\n",
       " '__getnewargs__',\n",
       " '__getstate__',\n",
       " '__gt__',\n",
       " '__hash__',\n",
       " '__init__',\n",
       " '__init_subclass__',\n",
       " '__iter__',\n",
       " '__le__',\n",
       " '__len__',\n",
       " '__lt__',\n",
       " '__mod__',\n",
       " '__mul__',\n",
       " '__ne__',\n",
       " '__new__',\n",
       " '__reduce__',\n",
       " '__reduce_ex__',\n",
       " '__repr__',\n",
       " '__rmod__',\n",
       " '__rmul__',\n",
       " '__setattr__',\n",
       " '__sizeof__',\n",
       " '__str__',\n",
       " '__subclasshook__',\n",
       " 'capitalize',\n",
       " 'casefold',\n",
       " 'center',\n",
       " 'count',\n",
       " 'encode',\n",
       " 'endswith',\n",
       " 'expandtabs',\n",
       " 'find',\n",
       " 'format',\n",
       " 'format_map',\n",
       " 'index',\n",
       " 'isalnum',\n",
       " 'isalpha',\n",
       " 'isascii',\n",
       " 'isdecimal',\n",
       " 'isdigit',\n",
       " 'isidentifier',\n",
       " 'islower',\n",
       " 'isnumeric',\n",
       " 'isprintable',\n",
       " 'isspace',\n",
       " 'istitle',\n",
       " 'isupper',\n",
       " 'join',\n",
       " 'ljust',\n",
       " 'lower',\n",
       " 'lstrip',\n",
       " 'maketrans',\n",
       " 'partition',\n",
       " 'removeprefix',\n",
       " 'removesuffix',\n",
       " 'replace',\n",
       " 'rfind',\n",
       " 'rindex',\n",
       " 'rjust',\n",
       " 'rpartition',\n",
       " 'rsplit',\n",
       " 'rstrip',\n",
       " 'split',\n",
       " 'splitlines',\n",
       " 'startswith',\n",
       " 'strip',\n",
       " 'swapcase',\n",
       " 'title',\n",
       " 'translate',\n",
       " 'upper',\n",
       " 'zfill']"
      ]
     },
     "execution_count": 56,
     "metadata": {},
     "output_type": "execute_result"
    }
   ],
   "source": [
    "dir(str)"
   ]
  },
  {
   "cell_type": "code",
   "execution_count": 57,
   "id": "c48fa230-65bf-483d-ab07-36f1ac34641a",
   "metadata": {},
   "outputs": [],
   "source": [
    "my_str = 'Hello, World!'"
   ]
  },
  {
   "cell_type": "code",
   "execution_count": 58,
   "id": "a5b378f3-a5d5-4109-88fb-9945f46646c9",
   "metadata": {},
   "outputs": [
    {
     "data": {
      "text/plain": [
       "'Hello, world!'"
      ]
     },
     "execution_count": 58,
     "metadata": {},
     "output_type": "execute_result"
    }
   ],
   "source": [
    "# 1. capitalize\n",
    "# it make the first char of a string to upper case and rest char to lower case\n",
    "my_str.capitalize()"
   ]
  },
  {
   "cell_type": "code",
   "execution_count": 59,
   "id": "e746e53f-88ab-4b2a-8a50-3820824f79d5",
   "metadata": {},
   "outputs": [
    {
     "data": {
      "text/plain": [
       "'Python'"
      ]
     },
     "execution_count": 59,
     "metadata": {},
     "output_type": "execute_result"
    }
   ],
   "source": [
    "'PYTHON'.capitalize()"
   ]
  },
  {
   "cell_type": "code",
   "execution_count": 60,
   "id": "fb900970-13d7-4b68-a3e1-926b1c765d9c",
   "metadata": {},
   "outputs": [
    {
     "data": {
      "text/plain": [
       "3"
      ]
     },
     "execution_count": 60,
     "metadata": {},
     "output_type": "execute_result"
    }
   ],
   "source": [
    "# 2. count\n",
    "# it counts the occurence of a substring into a string\n",
    "my_str.count('l')"
   ]
  },
  {
   "cell_type": "code",
   "execution_count": 61,
   "id": "f60e19c2-c3b8-480e-9777-7ef3e41e6372",
   "metadata": {},
   "outputs": [
    {
     "data": {
      "text/plain": [
       "1"
      ]
     },
     "execution_count": 61,
     "metadata": {},
     "output_type": "execute_result"
    }
   ],
   "source": [
    "my_str.count('ll')"
   ]
  },
  {
   "cell_type": "code",
   "execution_count": 62,
   "id": "79e0f2a1-e8c0-4532-9b42-7f4e74fb0e78",
   "metadata": {},
   "outputs": [
    {
     "data": {
      "text/plain": [
       "1"
      ]
     },
     "execution_count": 62,
     "metadata": {},
     "output_type": "execute_result"
    }
   ],
   "source": [
    "my_str.count('Hello')"
   ]
  },
  {
   "cell_type": "code",
   "execution_count": 63,
   "id": "64fc4794-e6e6-46de-bac9-d226bcf37477",
   "metadata": {},
   "outputs": [
    {
     "data": {
      "text/plain": [
       "0"
      ]
     },
     "execution_count": 63,
     "metadata": {},
     "output_type": "execute_result"
    }
   ],
   "source": [
    "my_str.count('Apple')"
   ]
  },
  {
   "cell_type": "code",
   "execution_count": 72,
   "id": "173df04b-b4ef-4057-9738-53132d2a9c0c",
   "metadata": {},
   "outputs": [
    {
     "data": {
      "text/plain": [
       "4"
      ]
     },
     "execution_count": 72,
     "metadata": {},
     "output_type": "execute_result"
    }
   ],
   "source": [
    "# 3. find\n",
    "# it returns the lowest index of a substring within a string\n",
    "# if substring not found in string, returns -1\n",
    "my_str.find('o')"
   ]
  },
  {
   "cell_type": "code",
   "execution_count": 73,
   "id": "37a1e9e1-1df6-4394-b894-ccc9d8507367",
   "metadata": {},
   "outputs": [
    {
     "data": {
      "text/plain": [
       "8"
      ]
     },
     "execution_count": 73,
     "metadata": {},
     "output_type": "execute_result"
    }
   ],
   "source": [
    "my_str.find('o', 5)"
   ]
  },
  {
   "cell_type": "code",
   "execution_count": 74,
   "id": "161b541f-252d-4855-8ffe-7cc122850001",
   "metadata": {},
   "outputs": [
    {
     "data": {
      "text/plain": [
       "2"
      ]
     },
     "execution_count": 74,
     "metadata": {},
     "output_type": "execute_result"
    }
   ],
   "source": [
    "my_str.find('llo')"
   ]
  },
  {
   "cell_type": "code",
   "execution_count": 75,
   "id": "a302eccc-1bd1-46e1-a053-9f4e0c1e5e03",
   "metadata": {},
   "outputs": [
    {
     "data": {
      "text/plain": [
       "-1"
      ]
     },
     "execution_count": 75,
     "metadata": {},
     "output_type": "execute_result"
    }
   ],
   "source": [
    "my_str.find('xyz')"
   ]
  },
  {
   "cell_type": "code",
   "execution_count": 77,
   "id": "f77477b8-2eb2-42d4-8416-2370f2863a89",
   "metadata": {},
   "outputs": [
    {
     "data": {
      "text/plain": [
       "4"
      ]
     },
     "execution_count": 77,
     "metadata": {},
     "output_type": "execute_result"
    }
   ],
   "source": [
    "# 4. index\n",
    "# it returns the lowest index of a substring within a string\n",
    "# if substring not found in string, Raises ValueError\n",
    "my_str.index('o')"
   ]
  },
  {
   "cell_type": "code",
   "execution_count": 78,
   "id": "71c7ed6a-8194-4129-952b-b35e197e9f07",
   "metadata": {},
   "outputs": [
    {
     "data": {
      "text/plain": [
       "8"
      ]
     },
     "execution_count": 78,
     "metadata": {},
     "output_type": "execute_result"
    }
   ],
   "source": [
    "my_str.index('o', 5)"
   ]
  },
  {
   "cell_type": "code",
   "execution_count": 79,
   "id": "a4002fc8-c0c7-4c44-94a1-c8772ba15f16",
   "metadata": {},
   "outputs": [
    {
     "data": {
      "text/plain": [
       "2"
      ]
     },
     "execution_count": 79,
     "metadata": {},
     "output_type": "execute_result"
    }
   ],
   "source": [
    "my_str.index('llo')"
   ]
  },
  {
   "cell_type": "code",
   "execution_count": 80,
   "id": "663feaf3-3ca5-4a63-8c8a-d8994f987a3f",
   "metadata": {},
   "outputs": [
    {
     "ename": "ValueError",
     "evalue": "substring not found",
     "output_type": "error",
     "traceback": [
      "\u001b[1;31m---------------------------------------------------------------------------\u001b[0m",
      "\u001b[1;31mValueError\u001b[0m                                Traceback (most recent call last)",
      "Cell \u001b[1;32mIn[80], line 1\u001b[0m\n\u001b[1;32m----> 1\u001b[0m \u001b[43mmy_str\u001b[49m\u001b[38;5;241;43m.\u001b[39;49m\u001b[43mindex\u001b[49m\u001b[43m(\u001b[49m\u001b[38;5;124;43m'\u001b[39;49m\u001b[38;5;124;43mxyz\u001b[39;49m\u001b[38;5;124;43m'\u001b[39;49m\u001b[43m)\u001b[49m\n",
      "\u001b[1;31mValueError\u001b[0m: substring not found"
     ]
    }
   ],
   "source": [
    "my_str.index('xyz')"
   ]
  },
  {
   "cell_type": "code",
   "execution_count": 81,
   "id": "f09d2472-ab31-4407-bd4f-538d2488ec9c",
   "metadata": {},
   "outputs": [
    {
     "name": "stdout",
     "output_type": "stream",
     "text": [
      "Help on method_descriptor:\n",
      "\n",
      "lower(self, /) unbound builtins.str method\n",
      "    Return a copy of the string converted to lowercase.\n",
      "\n"
     ]
    }
   ],
   "source": [
    "help(str.lower)"
   ]
  },
  {
   "cell_type": "code",
   "execution_count": 82,
   "id": "156e86c0-1bb5-4895-afb0-6536e6862b94",
   "metadata": {},
   "outputs": [
    {
     "data": {
      "text/plain": [
       "'Hello, World!'"
      ]
     },
     "execution_count": 82,
     "metadata": {},
     "output_type": "execute_result"
    }
   ],
   "source": [
    "my_str"
   ]
  },
  {
   "cell_type": "code",
   "execution_count": 83,
   "id": "98aa8fe8-d5d4-4dde-bebd-6f83167fd7f8",
   "metadata": {},
   "outputs": [
    {
     "data": {
      "text/plain": [
       "False"
      ]
     },
     "execution_count": 83,
     "metadata": {},
     "output_type": "execute_result"
    }
   ],
   "source": [
    "# 5. isalnum\n",
    "# it return True if the given string is alphanumeric False otherwise\n",
    "my_str.isalnum()"
   ]
  },
  {
   "cell_type": "code",
   "execution_count": 84,
   "id": "c8752353-86b1-432b-8174-b7658e1e08e2",
   "metadata": {},
   "outputs": [
    {
     "data": {
      "text/plain": [
       "False"
      ]
     },
     "execution_count": 84,
     "metadata": {},
     "output_type": "execute_result"
    }
   ],
   "source": [
    "'hello_123'.isalnum()"
   ]
  },
  {
   "cell_type": "code",
   "execution_count": 85,
   "id": "b261660e-2b94-4309-b535-e423ed8eb0a3",
   "metadata": {},
   "outputs": [
    {
     "data": {
      "text/plain": [
       "True"
      ]
     },
     "execution_count": 85,
     "metadata": {},
     "output_type": "execute_result"
    }
   ],
   "source": [
    "'hello123'.isalnum()"
   ]
  },
  {
   "cell_type": "code",
   "execution_count": 86,
   "id": "6dd53a10-2768-4250-bcf4-a9f594fce5dd",
   "metadata": {},
   "outputs": [
    {
     "data": {
      "text/plain": [
       "False"
      ]
     },
     "execution_count": 86,
     "metadata": {},
     "output_type": "execute_result"
    }
   ],
   "source": [
    "# 6. isdigit\n",
    "# it return True if the given string is digits only False otherwise\n",
    "my_str.isdigit()"
   ]
  },
  {
   "cell_type": "code",
   "execution_count": 87,
   "id": "a1baa3f7-72ee-4887-8853-d3e9f27ac26f",
   "metadata": {},
   "outputs": [
    {
     "data": {
      "text/plain": [
       "True"
      ]
     },
     "execution_count": 87,
     "metadata": {},
     "output_type": "execute_result"
    }
   ],
   "source": [
    "'123'.isdigit()"
   ]
  },
  {
   "cell_type": "code",
   "execution_count": 88,
   "id": "66bb3ff2-a7ed-40cb-9ec4-388736da08b8",
   "metadata": {},
   "outputs": [
    {
     "data": {
      "text/plain": [
       "False"
      ]
     },
     "execution_count": 88,
     "metadata": {},
     "output_type": "execute_result"
    }
   ],
   "source": [
    "'123.456'.isdigit()"
   ]
  },
  {
   "cell_type": "code",
   "execution_count": 89,
   "id": "33d5872c-a9ea-4ef5-90d6-fb022b297e30",
   "metadata": {},
   "outputs": [
    {
     "data": {
      "text/plain": [
       "False"
      ]
     },
     "execution_count": 89,
     "metadata": {},
     "output_type": "execute_result"
    }
   ],
   "source": [
    "# 7. islower\n",
    "# it return True if the given string is in lower case False otherwise\n",
    "my_str.islower()"
   ]
  },
  {
   "cell_type": "code",
   "execution_count": 90,
   "id": "02950c16-2572-49b1-9c57-13da9b309af8",
   "metadata": {},
   "outputs": [
    {
     "data": {
      "text/plain": [
       "True"
      ]
     },
     "execution_count": 90,
     "metadata": {},
     "output_type": "execute_result"
    }
   ],
   "source": [
    "'python'.islower()"
   ]
  },
  {
   "cell_type": "code",
   "execution_count": 91,
   "id": "51cffe39-41f9-4573-9368-238546ca7478",
   "metadata": {},
   "outputs": [
    {
     "data": {
      "text/plain": [
       "False"
      ]
     },
     "execution_count": 91,
     "metadata": {},
     "output_type": "execute_result"
    }
   ],
   "source": [
    "# 8. isupper\n",
    "# it return True if the given string is in upper case False otherwise\n",
    "my_str.isupper()"
   ]
  },
  {
   "cell_type": "code",
   "execution_count": 92,
   "id": "f9324f21-08c3-47f2-972b-f4572ff14a41",
   "metadata": {},
   "outputs": [
    {
     "data": {
      "text/plain": [
       "True"
      ]
     },
     "execution_count": 92,
     "metadata": {},
     "output_type": "execute_result"
    }
   ],
   "source": [
    "'PYTHON'.isupper()"
   ]
  },
  {
   "cell_type": "code",
   "execution_count": 93,
   "id": "475a7cdb-b1a0-40c0-8a35-85c434dd1fd1",
   "metadata": {},
   "outputs": [
    {
     "name": "stdout",
     "output_type": "stream",
     "text": [
      "Help on method_descriptor:\n",
      "\n",
      "join(self, iterable, /) unbound builtins.str method\n",
      "    Concatenate any number of strings.\n",
      "\n",
      "    The string whose method is called is inserted in between each given string.\n",
      "    The result is returned as a new string.\n",
      "\n",
      "    Example: '.'.join(['ab', 'pq', 'rs']) -> 'ab.pq.rs'\n",
      "\n"
     ]
    }
   ],
   "source": [
    "help(str.join)"
   ]
  },
  {
   "cell_type": "code",
   "execution_count": 95,
   "id": "9d82d626-7e95-4002-9416-bfa2be099a2d",
   "metadata": {},
   "outputs": [
    {
     "data": {
      "text/plain": [
       "'This is python class'"
      ]
     },
     "execution_count": 95,
     "metadata": {},
     "output_type": "execute_result"
    }
   ],
   "source": [
    "# 9. join\n",
    "# it concatenates the list of chars/words togethor\n",
    "' '.join(['This', 'is', 'python', 'class'])"
   ]
  },
  {
   "cell_type": "code",
   "execution_count": 96,
   "id": "c82716bd-887b-4aaf-b890-179fc4a7a845",
   "metadata": {},
   "outputs": [
    {
     "data": {
      "text/plain": [
       "'This-is-python-class'"
      ]
     },
     "execution_count": 96,
     "metadata": {},
     "output_type": "execute_result"
    }
   ],
   "source": [
    "'-'.join(['This', 'is', 'python', 'class'])"
   ]
  },
  {
   "cell_type": "code",
   "execution_count": 97,
   "id": "0a2ef6bc-5dae-4058-b1ec-4019b0685393",
   "metadata": {},
   "outputs": [
    {
     "data": {
      "text/plain": [
       "'Python class      '"
      ]
     },
     "execution_count": 97,
     "metadata": {},
     "output_type": "execute_result"
    }
   ],
   "source": [
    "# 10. lstrip\n",
    "# it returns a new string with removed spaces from left\n",
    "'       Python class      '.lstrip()"
   ]
  },
  {
   "cell_type": "code",
   "execution_count": 98,
   "id": "b1f4c80b-cc0b-4111-be59-a1cd9777954c",
   "metadata": {},
   "outputs": [
    {
     "data": {
      "text/plain": [
       "'       Python class'"
      ]
     },
     "execution_count": 98,
     "metadata": {},
     "output_type": "execute_result"
    }
   ],
   "source": [
    "# 11. rstrip\n",
    "# it returns a new string with removed spaces from right\n",
    "'       Python class      '.rstrip()"
   ]
  },
  {
   "cell_type": "code",
   "execution_count": 99,
   "id": "f6136a92-97dc-4b93-a32d-18139c8cf19e",
   "metadata": {},
   "outputs": [
    {
     "data": {
      "text/plain": [
       "'Python class'"
      ]
     },
     "execution_count": 99,
     "metadata": {},
     "output_type": "execute_result"
    }
   ],
   "source": [
    "# 12. rstrip\n",
    "# it returns a new string with removed spaces from both the sides\n",
    "'       Python class      '.strip()"
   ]
  },
  {
   "cell_type": "code",
   "execution_count": 100,
   "id": "7a79aead-570e-4c46-bc81-dc8cb1240034",
   "metadata": {},
   "outputs": [
    {
     "data": {
      "text/plain": [
       "'Hello, World!'"
      ]
     },
     "execution_count": 100,
     "metadata": {},
     "output_type": "execute_result"
    }
   ],
   "source": [
    "# 13. split\n",
    "# it returns a list of char/words splitted on a delimeter\n",
    "my_str"
   ]
  },
  {
   "cell_type": "code",
   "execution_count": 101,
   "id": "b3e91951-e1c8-4f4f-afa3-33fab0cde4dc",
   "metadata": {},
   "outputs": [
    {
     "data": {
      "text/plain": [
       "['Hello,', 'World!']"
      ]
     },
     "execution_count": 101,
     "metadata": {},
     "output_type": "execute_result"
    }
   ],
   "source": [
    "my_str.split()"
   ]
  },
  {
   "cell_type": "code",
   "execution_count": 102,
   "id": "50ea7e31-1d4e-4fb2-bbc5-07b2f97d2e35",
   "metadata": {},
   "outputs": [
    {
     "data": {
      "text/plain": [
       "['Hell', ', W', 'rld!']"
      ]
     },
     "execution_count": 102,
     "metadata": {},
     "output_type": "execute_result"
    }
   ],
   "source": [
    "my_str.split('o')"
   ]
  },
  {
   "cell_type": "code",
   "execution_count": 103,
   "id": "2ebb3314-4455-4a4e-95d3-89cdcbf7163c",
   "metadata": {},
   "outputs": [
    {
     "data": {
      "text/plain": [
       "'hello, world!'"
      ]
     },
     "execution_count": 103,
     "metadata": {},
     "output_type": "execute_result"
    }
   ],
   "source": [
    "# 14. lower \n",
    "# it converts all the char of a string to lower case\n",
    "my_str.lower()"
   ]
  },
  {
   "cell_type": "code",
   "execution_count": 104,
   "id": "52674ca2-d1f3-4621-9006-7dbb82f3bea6",
   "metadata": {},
   "outputs": [
    {
     "data": {
      "text/plain": [
       "'HELLO, WORLD!'"
      ]
     },
     "execution_count": 104,
     "metadata": {},
     "output_type": "execute_result"
    }
   ],
   "source": [
    "# 15. upper \n",
    "# it converts all the char of a string to upper case\n",
    "my_str.upper()"
   ]
  },
  {
   "cell_type": "code",
   "execution_count": 105,
   "id": "2eba79d2-596b-4556-a644-3d381d13e7d5",
   "metadata": {},
   "outputs": [
    {
     "data": {
      "text/plain": [
       "'Hello, World!'"
      ]
     },
     "execution_count": 105,
     "metadata": {},
     "output_type": "execute_result"
    }
   ],
   "source": [
    "my_str"
   ]
  },
  {
   "cell_type": "code",
   "execution_count": 106,
   "id": "48824136-1cb7-47a4-a996-d8b2b6f65653",
   "metadata": {},
   "outputs": [
    {
     "data": {
      "text/plain": [
       "'Hello, World!'"
      ]
     },
     "execution_count": 106,
     "metadata": {},
     "output_type": "execute_result"
    }
   ],
   "source": [
    "# 16. title\n",
    "# it converts all the char of a string to title case\n",
    "my_str.title()"
   ]
  },
  {
   "cell_type": "code",
   "execution_count": 107,
   "id": "9c4b3d98-9008-45fc-a3cb-889640e5cf02",
   "metadata": {},
   "outputs": [
    {
     "data": {
      "text/plain": [
       "'Python Class'"
      ]
     },
     "execution_count": 107,
     "metadata": {},
     "output_type": "execute_result"
    }
   ],
   "source": [
    "'python class'.title()"
   ]
  },
  {
   "cell_type": "code",
   "execution_count": 108,
   "id": "f81b272b-bcf4-4856-891f-c1608f25209b",
   "metadata": {},
   "outputs": [
    {
     "data": {
      "text/plain": [
       "'Hejjo, Worjd!'"
      ]
     },
     "execution_count": 108,
     "metadata": {},
     "output_type": "execute_result"
    }
   ],
   "source": [
    "# 17. replace\n",
    "# it replaces all oocurences the substring with a new substring withing a string and returns a new string\n",
    "# it does not modify the original string(strings are immutable)\n",
    "my_str.replace('l', 'j') "
   ]
  },
  {
   "cell_type": "code",
   "execution_count": 109,
   "id": "49ca0a95-337f-4fc0-895a-64bab1323332",
   "metadata": {},
   "outputs": [
    {
     "data": {
      "text/plain": [
       "'Hii, World!'"
      ]
     },
     "execution_count": 109,
     "metadata": {},
     "output_type": "execute_result"
    }
   ],
   "source": [
    "my_str.replace('Hello', 'Hii')"
   ]
  },
  {
   "cell_type": "code",
   "execution_count": 110,
   "id": "83d6b95a-c3fc-49ac-9d3d-d0e9fce29bc9",
   "metadata": {},
   "outputs": [
    {
     "data": {
      "text/plain": [
       "'Hello, World!'"
      ]
     },
     "execution_count": 110,
     "metadata": {},
     "output_type": "execute_result"
    }
   ],
   "source": [
    "my_str"
   ]
  },
  {
   "cell_type": "markdown",
   "id": "2ee7d677-1bf3-42b8-ade4-aa3ee57bddf1",
   "metadata": {
    "jp-MarkdownHeadingCollapsed": true
   },
   "source": [
    "#### string formatting"
   ]
  },
  {
   "cell_type": "code",
   "execution_count": 111,
   "id": "b62d9922-17a7-4e3c-922b-b5f65ba2dbe1",
   "metadata": {},
   "outputs": [],
   "source": [
    "# we can use f string to format the strings\n",
    "name = 'Alice'\n",
    "age = 24\n",
    "score = 78.563656"
   ]
  },
  {
   "cell_type": "code",
   "execution_count": 118,
   "id": "6b9a7709-ba3b-4a03-a13b-651f8b121a0d",
   "metadata": {},
   "outputs": [
    {
     "name": "stdout",
     "output_type": "stream",
     "text": [
      "I am Alice, I am 24 years old. And my score is 78.56\n"
     ]
    }
   ],
   "source": [
    "print(f'I am {name}, I am {age} years old. And my score is {score:.2f}')"
   ]
  },
  {
   "cell_type": "markdown",
   "id": "1f7fbaa6-4465-475e-b23e-52100648cc68",
   "metadata": {
    "jp-MarkdownHeadingCollapsed": true
   },
   "source": [
    "#### Examples"
   ]
  },
  {
   "cell_type": "code",
   "execution_count": 122,
   "id": "4cfee269-38ca-4f85-af1b-e2f85cb58043",
   "metadata": {},
   "outputs": [
    {
     "name": "stdout",
     "output_type": "stream",
     "text": [
      "Original String is: Emma-is-a-data-scientist\n",
      "Displaying each substring\n",
      "Emma\n",
      "is\n",
      "a\n",
      "data\n",
      "scientist\n"
     ]
    }
   ],
   "source": [
    "# Example 1: Split a string on hyphens\n",
    "\n",
    "str1 = \"Emma-is-a-data-scientist\"\n",
    "print(\"Original String is:\", str1)\n",
    "\n",
    "# split string\n",
    "sub_strings = str1.split(\"-\")\n",
    "\n",
    "print(\"Displaying each substring\")\n",
    "for sub in sub_strings:\n",
    "    print(sub)\n"
   ]
  },
  {
   "cell_type": "code",
   "execution_count": 123,
   "id": "f8bf13f7-e32c-41de-8b99-0efd43684017",
   "metadata": {},
   "outputs": [
    {
     "data": {
      "text/plain": [
       "'HelloWorld'"
      ]
     },
     "execution_count": 123,
     "metadata": {},
     "output_type": "execute_result"
    }
   ],
   "source": [
    "# Example 2: Remove number From a String in Python\n",
    "\n",
    "input_string = \"Hello12345World\"\n",
    "\n",
    "new_str = ''\n",
    "\n",
    "for char in input_string:\n",
    "    if not char.isdigit():\n",
    "        new_str += char\n",
    "\n",
    "new_str"
   ]
  },
  {
   "cell_type": "code",
   "execution_count": 126,
   "id": "383f61cc-e247-461f-aec5-264f3d69e516",
   "metadata": {},
   "outputs": [
    {
     "name": "stdout",
     "output_type": "stream",
     "text": [
      "Chars = 8 Digits = 3 Symbol = 4\n"
     ]
    }
   ],
   "source": [
    "# lab Q1. Write a Python program to Count all letters, digits, and special\n",
    "# symbols from the given string\n",
    "input_str = \"P@#yn26at^&i5ve\"\n",
    "# Output: Chars = 8 Digits = 3 Symbol = 4\n",
    "\n",
    "# to check alphabets --> isalpha()\n",
    "# to check digits --> isdigits()\n",
    "# special symbols --> else\n",
    "\n",
    "alpha = 0\n",
    "digits = 0\n",
    "symbols = 0\n",
    "\n",
    "for char in input_str:\n",
    "    if char.isalpha():\n",
    "        alpha += 1\n",
    "    elif char.isdigit():\n",
    "        digits += 1\n",
    "    else:\n",
    "        symbols += 1\n",
    "\n",
    "print(f'Chars = {alpha} Digits = {digits} Symbol = {symbols}')"
   ]
  },
  {
   "cell_type": "code",
   "execution_count": 132,
   "id": "2dabdf6f-2666-4daf-a173-84c5c5607335",
   "metadata": {},
   "outputs": [
    {
     "data": {
      "text/plain": [
       "'String and function python '"
      ]
     },
     "execution_count": 132,
     "metadata": {},
     "output_type": "execute_result"
    }
   ],
   "source": [
    "# lab Q2. Write a Python program to remove duplicate words of a given string.\n",
    "input_str = \"String and String function and function python\"\n",
    "# Output: String and Function\n",
    "\n",
    "new_str = ''\n",
    "\n",
    "for word in input_str.split():\n",
    "    if word not in new_str:\n",
    "        new_str += word + ' '\n",
    "\n",
    "new_str"
   ]
  },
  {
   "cell_type": "code",
   "execution_count": 135,
   "id": "57607379-16c5-4c72-8d91-0e5ef0f88129",
   "metadata": {},
   "outputs": [
    {
     "name": "stdout",
     "output_type": "stream",
     "text": [
      "upper_cnt = 5\n",
      "lower_cnt = 18\n",
      "digit_cnt = 5\n",
      "symbol_cnt = 11\n"
     ]
    }
   ],
   "source": [
    "# lab Q3. Write a Python program to count Uppercase, Lowercase, special\n",
    "# character and numeric values in a given string\n",
    "input_str = \"Hell0 W0rld ! 123 * # welcome to pYtHoN\"\n",
    "# Output:\n",
    "# UpperCase : 5  <-- isupper()\n",
    "# LowerCase : 18  <-- islower()\n",
    "# Numbers : 5     <-- isdigit()\n",
    "# Special : 11    <-- else\n",
    "\n",
    "\n",
    "upper_cnt = 0\n",
    "lower_cnt = 0\n",
    "digit_cnt = 0\n",
    "symbol_cnt = 0\n",
    "\n",
    "for char in input_str:\n",
    "    if char.isupper():\n",
    "        upper_cnt += 1\n",
    "    elif char.islower():\n",
    "        lower_cnt += 1\n",
    "    elif char.isdigit():\n",
    "        digit_cnt += 1\n",
    "    else:\n",
    "        symbol_cnt += 1\n",
    "\n",
    "print(f'upper_cnt = {upper_cnt}\\nlower_cnt = {lower_cnt}\\ndigit_cnt = {digit_cnt}\\nsymbol_cnt = {symbol_cnt}')"
   ]
  },
  {
   "cell_type": "code",
   "execution_count": 133,
   "id": "275d61bb-e253-4e64-82b1-51e4ca1dbadc",
   "metadata": {},
   "outputs": [
    {
     "name": "stdout",
     "output_type": "stream",
     "text": [
      "8\n"
     ]
    }
   ],
   "source": [
    "# lab Q4. Write a Python Count vowels in a string\n",
    "input_str = \"Welcome to Python Assignment\"\n",
    "# Output: Total vowels are: 8\n",
    "vowels = 'aeiou'\n",
    "count = 0\n",
    "for char in input_str:\n",
    "    if char.lower() in vowels:\n",
    "        count += 1\n",
    "\n",
    "print(count)"
   ]
  },
  {
   "cell_type": "code",
   "execution_count": null,
   "id": "ab01d892-4297-4abb-a84d-72ab5e377433",
   "metadata": {},
   "outputs": [],
   "source": []
  }
 ],
 "metadata": {
  "kernelspec": {
   "display_name": "Python 3 (ipykernel)",
   "language": "python",
   "name": "python3"
  },
  "language_info": {
   "codemirror_mode": {
    "name": "ipython",
    "version": 3
   },
   "file_extension": ".py",
   "mimetype": "text/x-python",
   "name": "python",
   "nbconvert_exporter": "python",
   "pygments_lexer": "ipython3",
   "version": "3.13.1"
  }
 },
 "nbformat": 4,
 "nbformat_minor": 5
}
