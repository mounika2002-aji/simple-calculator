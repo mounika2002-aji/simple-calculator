{
 "cells": [
  {
   "cell_type": "code",
   "execution_count": 3,
   "id": "ec42b0e4-c9d2-4d51-b094-dedaab70d516",
   "metadata": {},
   "outputs": [
    {
     "name": "stdout",
     "output_type": "stream",
     "text": [
      "Hello, World\n"
     ]
    }
   ],
   "source": [
    "print('Hello, World')"
   ]
  },
  {
   "cell_type": "code",
   "execution_count": 4,
   "id": "e25ca7c8-e87c-4681-9918-a424811bdd03",
   "metadata": {},
   "outputs": [
    {
     "name": "stdout",
     "output_type": "stream",
     "text": [
      "Something\n"
     ]
    }
   ],
   "source": [
    "print('Something')"
   ]
  },
  {
   "cell_type": "code",
   "execution_count": 5,
   "id": "e01fc81b-4831-4c36-8f58-73f80352811d",
   "metadata": {},
   "outputs": [],
   "source": [
    "# Jupyter notebook acts as:\n",
    "# shell\n",
    "# editor"
   ]
  },
  {
   "cell_type": "code",
   "execution_count": null,
   "id": "05533f07-035f-41f0-bf36-9cbedf07b632",
   "metadata": {},
   "outputs": [],
   "source": [
    "# to run the cell use short key --> Shift + Enter "
   ]
  },
  {
   "cell_type": "code",
   "execution_count": null,
   "id": "fa09472a-65ee-4ca5-9818-32abc93579f1",
   "metadata": {},
   "outputs": [],
   "source": [
    "# to delete a cell use delete icon on the side ride of the cell or press 'd' twice"
   ]
  },
  {
   "cell_type": "markdown",
   "id": "c3008c31-268a-487f-813a-7ff85b8210ab",
   "metadata": {
    "jp-MarkdownHeadingCollapsed": true
   },
   "source": [
    "# Heading 1"
   ]
  },
  {
   "cell_type": "markdown",
   "id": "6246402c-9c37-4133-a111-77da1aee1367",
   "metadata": {},
   "source": [
    "## Heading 2"
   ]
  },
  {
   "cell_type": "markdown",
   "id": "dc48191f-479b-49e2-93e7-61d7881d4e51",
   "metadata": {},
   "source": [
    "### Heading 3"
   ]
  },
  {
   "cell_type": "markdown",
   "id": "eee2e146-2e46-47a3-a220-165b76b618ff",
   "metadata": {},
   "source": [
    "#### Heading 4"
   ]
  },
  {
   "cell_type": "markdown",
   "id": "b44c5f23-68fe-4343-917b-1f8a7a9373b2",
   "metadata": {},
   "source": [
    "##### Heading 5"
   ]
  },
  {
   "cell_type": "markdown",
   "id": "6f9f6051-b8ad-45b3-ac47-231cdb91d520",
   "metadata": {},
   "source": [
    "###### Heading 6"
   ]
  },
  {
   "cell_type": "code",
   "execution_count": null,
   "id": "b988242f-a6cc-43a9-a1b6-be2379ce41ec",
   "metadata": {},
   "outputs": [],
   "source": []
  },
  {
   "cell_type": "markdown",
   "id": "ecf1a279-41df-454e-a0c7-7ef0292c4e92",
   "metadata": {},
   "source": [
    "# Conditional Statements"
   ]
  },
  {
   "cell_type": "code",
   "execution_count": 6,
   "id": "53de7d5f-834c-4d47-85d9-eee854dad723",
   "metadata": {},
   "outputs": [],
   "source": [
    "# if, else, elif"
   ]
  },
  {
   "cell_type": "code",
   "execution_count": null,
   "id": "180761a8-eb2a-460e-87dc-6415ae4bab21",
   "metadata": {},
   "outputs": [],
   "source": [
    "# syntax:\n",
    "\n",
    "# if <condition>:\n",
    "#     <statements>\n",
    "# else:\n",
    "#     <statements>"
   ]
  },
  {
   "cell_type": "code",
   "execution_count": null,
   "id": "b53cd86f-b879-4112-946a-d9c807383d72",
   "metadata": {},
   "outputs": [],
   "source": [
    "# if <condition>:\n",
    "#     <statements>\n",
    "# elif <condition>:\n",
    "#     <statements>\n",
    "# elif <condition>:\n",
    "#     <statements>\n",
    "# .\n",
    "# .\n",
    "# .\n",
    "# .\n",
    "# else:\n",
    "#     <statements>"
   ]
  },
  {
   "cell_type": "code",
   "execution_count": null,
   "id": "32ea9ec6-dc60-49ce-b565-9709bbac9075",
   "metadata": {},
   "outputs": [],
   "source": [
    "# why and when"
   ]
  },
  {
   "cell_type": "code",
   "execution_count": null,
   "id": "60c1ea9a-46fd-4c2a-ba94-1d52d0f6b11e",
   "metadata": {},
   "outputs": [],
   "source": [
    "# W3School, Hackerrank"
   ]
  },
  {
   "cell_type": "markdown",
   "id": "0f87e757-4b4b-45ba-b056-a32f794257c1",
   "metadata": {},
   "source": [
    "##### We use conditional statements when we want to execute some statements once a condition is True\n",
    "##### When we want to perform some task based on certain condition"
   ]
  },
  {
   "cell_type": "code",
   "execution_count": 7,
   "id": "46b34f6e-bd9c-4707-a830-94583e6e8539",
   "metadata": {},
   "outputs": [],
   "source": [
    "# you want to decide whether to go for science, commerce or arts stream based on your 10th percentage"
   ]
  },
  {
   "cell_type": "code",
   "execution_count": null,
   "id": "385e2c63-4b0a-45b9-a077-9ec8c2bee42f",
   "metadata": {},
   "outputs": [],
   "source": [
    "# percentage > 80 --> Science\n",
    "# percentage > 60 --> commerce\n",
    "# other wise --> arts"
   ]
  },
  {
   "cell_type": "code",
   "execution_count": 11,
   "id": "1378f6be-2b3c-44ee-af27-31d702b2b1f6",
   "metadata": {},
   "outputs": [
    {
     "name": "stdin",
     "output_type": "stream",
     "text": [
      "Enter your 10th percentage:  23\n"
     ]
    },
    {
     "name": "stdout",
     "output_type": "stream",
     "text": [
      "Arts\n"
     ]
    }
   ],
   "source": [
    "percentage = float(input('Enter your 10th percentage: '))\n",
    "\n",
    "if percentage > 80:\n",
    "    print('Science')\n",
    "elif percentage > 60:\n",
    "    print('Commerce')\n",
    "else:\n",
    "    print('Arts')"
   ]
  },
  {
   "cell_type": "code",
   "execution_count": 16,
   "id": "ff0ddd87-ff51-41eb-95ee-9d23309bdbd2",
   "metadata": {},
   "outputs": [
    {
     "name": "stdin",
     "output_type": "stream",
     "text": [
      "Enter your age:  19\n"
     ]
    },
    {
     "name": "stdout",
     "output_type": "stream",
     "text": [
      "you are eligible to vote\n"
     ]
    }
   ],
   "source": [
    "# Q1. Write a program to check the eligibility criteria for voting\n",
    "age = int(input('Enter your age: '))\n",
    "\n",
    "if age >= 18:\n",
    "    print('you are eligible to vote')\n",
    "else:\n",
    "    print('you are not eligible to vote')"
   ]
  },
  {
   "cell_type": "code",
   "execution_count": 20,
   "id": "15eb491f-90a3-43a8-b739-08d51ea24fbe",
   "metadata": {},
   "outputs": [
    {
     "name": "stdin",
     "output_type": "stream",
     "text": [
      "Enter a number:  0\n"
     ]
    },
    {
     "name": "stdout",
     "output_type": "stream",
     "text": [
      "Zero\n"
     ]
    }
   ],
   "source": [
    "# Q2. Write a program to check if a number if positive, negative or zero\n",
    "num = float(input('Enter a number: '))\n",
    "\n",
    "if num > 0:\n",
    "    print('Positive')\n",
    "elif num < 0:\n",
    "    print('Negative')\n",
    "else:\n",
    "    print('Zero')"
   ]
  },
  {
   "cell_type": "code",
   "execution_count": null,
   "id": "137103c7-21e5-4dc6-8b52-d8b1cfeea802",
   "metadata": {},
   "outputs": [],
   "source": []
  }
 ],
 "metadata": {
  "kernelspec": {
   "display_name": "Python 3 (ipykernel)",
   "language": "python",
   "name": "python3"
  },
  "language_info": {
   "codemirror_mode": {
    "name": "ipython",
    "version": 3
   },
   "file_extension": ".py",
   "mimetype": "text/x-python",
   "name": "python",
   "nbconvert_exporter": "python",
   "pygments_lexer": "ipython3",
   "version": "3.13.1"
  }
 },
 "nbformat": 4,
 "nbformat_minor": 5
}
