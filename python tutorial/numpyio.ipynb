{
 "cells": [
  {
   "cell_type": "code",
   "execution_count": 1,
   "id": "17765234-c113-4612-833d-4cbd93d58eb0",
   "metadata": {},
   "outputs": [],
   "source": [
    "import numpy as np\n",
    "arr=np.array([[1,2,3],[5,10,15]])\n",
    "np.save(\"E://arr1.npy\",arr)"
   ]
  },
  {
   "cell_type": "code",
   "execution_count": 3,
   "id": "9648655d-fb4e-4f24-b4b4-c32a4b8dc776",
   "metadata": {},
   "outputs": [
    {
     "name": "stdout",
     "output_type": "stream",
     "text": [
      "[[ 1  2  3]\n",
      " [ 5 10 15]]\n"
     ]
    }
   ],
   "source": [
    "getData=np.load(\"E://arr1.npy\")\n",
    "print(getData)"
   ]
  },
  {
   "cell_type": "code",
   "execution_count": 11,
   "id": "15fde794-7f80-48cb-a918-22675be94260",
   "metadata": {},
   "outputs": [],
   "source": [
    "# Creating an array\n",
    "data = np.array([[1, 2, 3], [4, 5, 6], [7, 8, 9]])\n",
    "# Saving to a text file\n",
    "np.savetxt(\"E:\\\\output.txt\", data)"
   ]
  },
  {
   "cell_type": "code",
   "execution_count": 15,
   "id": "fd1a8a6d-f498-4e56-bd89-c25953d96d28",
   "metadata": {},
   "outputs": [
    {
     "name": "stdout",
     "output_type": "stream",
     "text": [
      "[[1. 2. 3.]\n",
      " [4. 5. 6.]\n",
      " [7. 8. 9.]]\n"
     ]
    }
   ],
   "source": [
    "getTxtData=np.loadtxt(\"E:\\\\output.txt\")\n",
    "print(getTxtData)"
   ]
  },
  {
   "cell_type": "code",
   "execution_count": 27,
   "id": "cef404c9-b71e-4c16-873a-02ee94a3900e",
   "metadata": {},
   "outputs": [],
   "source": [
    "data2=np.array([[4, 5, 7],[8, 3, 1],[6, 4, 5]])\n",
    "np.savetxt(\"E:\\\\saved.txt\",data2,fmt='%d', delimiter=' ')"
   ]
  },
  {
   "cell_type": "code",
   "execution_count": 29,
   "id": "593c3450-29c9-45f2-8579-b1512ca0f604",
   "metadata": {},
   "outputs": [
    {
     "name": "stdout",
     "output_type": "stream",
     "text": [
      "[[4. 5. 7.]\n",
      " [8. 3. 1.]\n",
      " [6. 4. 5.]]\n"
     ]
    }
   ],
   "source": [
    "getTxtData=np.loadtxt(\"E:\\\\saved.txt\")\n",
    "print(getTxtData)"
   ]
  },
  {
   "cell_type": "code",
   "execution_count": null,
   "id": "05e6fac8-f20a-4eb9-b8d3-f3090755f766",
   "metadata": {},
   "outputs": [],
   "source": []
  }
 ],
 "metadata": {
  "kernelspec": {
   "display_name": "Python [conda env:base] *",
   "language": "python",
   "name": "conda-base-py"
  },
  "language_info": {
   "codemirror_mode": {
    "name": "ipython",
    "version": 3
   },
   "file_extension": ".py",
   "mimetype": "text/x-python",
   "name": "python",
   "nbconvert_exporter": "python",
   "pygments_lexer": "ipython3",
   "version": "3.12.7"
  }
 },
 "nbformat": 4,
 "nbformat_minor": 5
}
