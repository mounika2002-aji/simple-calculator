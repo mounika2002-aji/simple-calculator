{
 "cells": [
  {
   "cell_type": "markdown",
   "id": "4dfaa235-cb7c-423b-a4a9-dbb41f3cc673",
   "metadata": {
    "jp-MarkdownHeadingCollapsed": true
   },
   "source": [
    "### LIST\n",
    "list is a data structure, that stores heterogenous data.\n",
    "\n",
    "features:\n",
    "1. Oredered\n",
    "2. Mutable(changeable)\n",
    "3. Allow duplicates\n",
    "4. Indexed"
   ]
  },
  {
   "cell_type": "markdown",
   "id": "716b83cd-a0b1-4450-89b9-a5a274be5ce8",
   "metadata": {
    "jp-MarkdownHeadingCollapsed": true
   },
   "source": [
    "#### Creating a List: \n",
    "You can create a list by enclosing a comma-separated sequence of\n",
    "items within square brackets [] or list() function"
   ]
  },
  {
   "cell_type": "code",
   "execution_count": 2,
   "id": "fe43f475-8e6a-44d0-82da-6de2f136a2e7",
   "metadata": {},
   "outputs": [
    {
     "data": {
      "text/plain": [
       "[1, 2.34, 'Hello', True, 'Hello', 1]"
      ]
     },
     "execution_count": 2,
     "metadata": {},
     "output_type": "execute_result"
    }
   ],
   "source": [
    "# to create a list in python use [] or list()\n",
    "l = [1, 2.34, 'Hello', True, 'Hello', 1]\n",
    "l"
   ]
  },
  {
   "cell_type": "code",
   "execution_count": 3,
   "id": "d670ef51-52fd-4050-bfe7-43f4294e50be",
   "metadata": {},
   "outputs": [
    {
     "data": {
      "text/plain": [
       "'Hello'"
      ]
     },
     "execution_count": 3,
     "metadata": {},
     "output_type": "execute_result"
    }
   ],
   "source": [
    "l[2]"
   ]
  },
  {
   "cell_type": "code",
   "execution_count": 4,
   "id": "e0bf2da7-efaf-4a22-9978-0594375d3502",
   "metadata": {},
   "outputs": [
    {
     "data": {
      "text/plain": [
       "[1, 2, 3, 4]"
      ]
     },
     "execution_count": 4,
     "metadata": {},
     "output_type": "execute_result"
    }
   ],
   "source": [
    "l2 = list([1, 2, 3, 4])\n",
    "l2"
   ]
  },
  {
   "cell_type": "code",
   "execution_count": 5,
   "id": "537fb36d-7660-48cd-b128-d6571dcf5212",
   "metadata": {},
   "outputs": [
    {
     "name": "stdout",
     "output_type": "stream",
     "text": [
      "14\n"
     ]
    }
   ],
   "source": [
    "# Predict the output of the below code\n",
    "\n",
    "str1 = \"Hello World 2345\"\n",
    "sum_num = 0\n",
    "for x in str1:\n",
    "    if x.isdigit() == True:\n",
    "        z = int(x)\n",
    "        sum_num = sum_num + z\n",
    "print(sum_num)"
   ]
  },
  {
   "cell_type": "code",
   "execution_count": 8,
   "id": "f3bfc670-d050-4f42-bf23-07e624857eb3",
   "metadata": {},
   "outputs": [
    {
     "data": {
      "text/plain": [
       "True"
      ]
     },
     "execution_count": 8,
     "metadata": {},
     "output_type": "execute_result"
    }
   ],
   "source": [
    "'2'.isdigit()"
   ]
  },
  {
   "cell_type": "code",
   "execution_count": 9,
   "id": "ec8a9303-a024-4fff-8754-636e58528c73",
   "metadata": {},
   "outputs": [
    {
     "data": {
      "text/plain": [
       "['a', 'b', 'c', 'd']"
      ]
     },
     "execution_count": 9,
     "metadata": {},
     "output_type": "execute_result"
    }
   ],
   "source": [
    "list('abcd')"
   ]
  },
  {
   "cell_type": "markdown",
   "id": "1d704b81-b4b4-4d33-a6c6-8a455a80095e",
   "metadata": {
    "jp-MarkdownHeadingCollapsed": true
   },
   "source": [
    "#### Accessing Elements: \n",
    "You can access individual elements of a list by using their index.\n",
    "List indices start from 0."
   ]
  },
  {
   "cell_type": "code",
   "execution_count": 10,
   "id": "8ebe316f-b495-4fc0-b8b8-ea5de72baf0c",
   "metadata": {},
   "outputs": [
    {
     "data": {
      "text/plain": [
       "[1, 2.34, 'Hello', True, 'Hello', 1]"
      ]
     },
     "execution_count": 10,
     "metadata": {},
     "output_type": "execute_result"
    }
   ],
   "source": [
    "l"
   ]
  },
  {
   "cell_type": "code",
   "execution_count": 11,
   "id": "43fa9812-d575-4cd6-94fb-4c302bc09e03",
   "metadata": {},
   "outputs": [
    {
     "data": {
      "text/plain": [
       "'Hello'"
      ]
     },
     "execution_count": 11,
     "metadata": {},
     "output_type": "execute_result"
    }
   ],
   "source": [
    "l[2]"
   ]
  },
  {
   "cell_type": "code",
   "execution_count": 12,
   "id": "02660f32-91f5-4dbd-8fe8-213588742e30",
   "metadata": {},
   "outputs": [
    {
     "data": {
      "text/plain": [
       "'Hello'"
      ]
     },
     "execution_count": 12,
     "metadata": {},
     "output_type": "execute_result"
    }
   ],
   "source": [
    "l[-2]"
   ]
  },
  {
   "cell_type": "code",
   "execution_count": 13,
   "id": "9d8a6065-3b77-4cab-aad2-63b4dee938c1",
   "metadata": {},
   "outputs": [
    {
     "data": {
      "text/plain": [
       "2.34"
      ]
     },
     "execution_count": 13,
     "metadata": {},
     "output_type": "execute_result"
    }
   ],
   "source": [
    "l[-5]"
   ]
  },
  {
   "cell_type": "markdown",
   "id": "9c9bb709-09aa-40b8-bedd-12e5dd33c523",
   "metadata": {
    "jp-MarkdownHeadingCollapsed": true
   },
   "source": [
    "#### Slicing Lists:"
   ]
  },
  {
   "cell_type": "raw",
   "id": "35762a7f-377b-4945-ae98-ca34590b2433",
   "metadata": {},
   "source": [
    "Slicing allows you to extract a portion of a list. \n",
    "The syntax for slicing is\n",
    "list[start:stop:step], \n",
    "where start is the index to start from, stop is the index to stop before,\n",
    "and step is the step size."
   ]
  },
  {
   "cell_type": "code",
   "execution_count": 14,
   "id": "795f2fb1-1f8b-46dd-b4a5-1afafdfae4d8",
   "metadata": {},
   "outputs": [],
   "source": [
    "# slicing syntax:\n",
    "# <list_name>[start:stop:step]"
   ]
  },
  {
   "cell_type": "code",
   "execution_count": 15,
   "id": "99150aa5-698a-4dc4-8d7b-2d97ba5b4e6f",
   "metadata": {},
   "outputs": [
    {
     "data": {
      "text/plain": [
       "[1, 2.34, 'Hello', True, 'Hello', 1]"
      ]
     },
     "execution_count": 15,
     "metadata": {},
     "output_type": "execute_result"
    }
   ],
   "source": [
    "l"
   ]
  },
  {
   "cell_type": "code",
   "execution_count": 16,
   "id": "989d931b-7cd9-4408-82ed-2dd3fcf7dff7",
   "metadata": {},
   "outputs": [
    {
     "data": {
      "text/plain": [
       "[2.34, 'Hello', True]"
      ]
     },
     "execution_count": 16,
     "metadata": {},
     "output_type": "execute_result"
    }
   ],
   "source": [
    "l[1 : 4]"
   ]
  },
  {
   "cell_type": "code",
   "execution_count": 17,
   "id": "c36c8308-6ffd-47b6-af36-4ea39e6fad79",
   "metadata": {},
   "outputs": [
    {
     "data": {
      "text/plain": [
       "[2.34, 'Hello', True]"
      ]
     },
     "execution_count": 17,
     "metadata": {},
     "output_type": "execute_result"
    }
   ],
   "source": [
    "l[-5 : -2]"
   ]
  },
  {
   "cell_type": "code",
   "execution_count": 18,
   "id": "ff937b5c-115f-4a64-afc1-678e5692cd05",
   "metadata": {},
   "outputs": [
    {
     "data": {
      "text/plain": [
       "[2.34, 'Hello', True]"
      ]
     },
     "execution_count": 18,
     "metadata": {},
     "output_type": "execute_result"
    }
   ],
   "source": [
    "l[1 : -2]"
   ]
  },
  {
   "cell_type": "code",
   "execution_count": 19,
   "id": "102ac69b-d8c9-47b6-aa7d-1f7e1a0cbcbc",
   "metadata": {},
   "outputs": [
    {
     "data": {
      "text/plain": [
       "[2.34, True, 1]"
      ]
     },
     "execution_count": 19,
     "metadata": {},
     "output_type": "execute_result"
    }
   ],
   "source": [
    "l[1 : : 2]"
   ]
  },
  {
   "cell_type": "markdown",
   "id": "f598dde8-4be7-48f6-a659-078aab06e138",
   "metadata": {
    "jp-MarkdownHeadingCollapsed": true
   },
   "source": [
    "#### Modifying Lists:\n",
    "Lists are mutable, so you can change their elements by assignment"
   ]
  },
  {
   "cell_type": "code",
   "execution_count": 20,
   "id": "7d982aac-562a-48f3-84c7-c9fea8be75de",
   "metadata": {},
   "outputs": [
    {
     "data": {
      "text/plain": [
       "[1, 2.34, 'Hello', True, 'Hello', 1]"
      ]
     },
     "execution_count": 20,
     "metadata": {},
     "output_type": "execute_result"
    }
   ],
   "source": [
    "l"
   ]
  },
  {
   "cell_type": "code",
   "execution_count": 21,
   "id": "0108924e-058b-44c1-8967-57f89fe1440a",
   "metadata": {},
   "outputs": [
    {
     "data": {
      "text/plain": [
       "True"
      ]
     },
     "execution_count": 21,
     "metadata": {},
     "output_type": "execute_result"
    }
   ],
   "source": [
    "l[3]"
   ]
  },
  {
   "cell_type": "code",
   "execution_count": 22,
   "id": "f7530ff6-68a9-43b6-9954-444b74b9ef59",
   "metadata": {},
   "outputs": [],
   "source": [
    "l[3] = False"
   ]
  },
  {
   "cell_type": "code",
   "execution_count": 23,
   "id": "56e1d692-2ce3-4324-8bb6-10e5f2c38480",
   "metadata": {},
   "outputs": [
    {
     "data": {
      "text/plain": [
       "[1, 2.34, 'Hello', False, 'Hello', 1]"
      ]
     },
     "execution_count": 23,
     "metadata": {},
     "output_type": "execute_result"
    }
   ],
   "source": [
    "l"
   ]
  },
  {
   "cell_type": "markdown",
   "id": "1df590ce-0f89-45c3-82ac-dc90d44a5876",
   "metadata": {
    "jp-MarkdownHeadingCollapsed": true
   },
   "source": [
    "#### Concatenation(+):\n",
    "we can concat two or more lists by using + operator"
   ]
  },
  {
   "cell_type": "code",
   "execution_count": 24,
   "id": "8a6e3ca8-dcfe-4c87-ac06-34540de3f3de",
   "metadata": {},
   "outputs": [],
   "source": [
    "a = [1, 2, 3, 4]\n",
    "b = ['a', 'b', 'c']"
   ]
  },
  {
   "cell_type": "code",
   "execution_count": 26,
   "id": "2787aa46-682a-4900-8669-922eb6a5a4ab",
   "metadata": {},
   "outputs": [],
   "source": [
    "c = a + b"
   ]
  },
  {
   "cell_type": "code",
   "execution_count": 27,
   "id": "9f1dbc27-be1f-4794-aae5-02794c5bf4f7",
   "metadata": {},
   "outputs": [
    {
     "data": {
      "text/plain": [
       "[1, 2, 3, 4, 'a', 'b', 'c']"
      ]
     },
     "execution_count": 27,
     "metadata": {},
     "output_type": "execute_result"
    }
   ],
   "source": [
    "c"
   ]
  },
  {
   "cell_type": "code",
   "execution_count": 28,
   "id": "fbd48522-290d-4b7c-bc28-533e1643acc8",
   "metadata": {},
   "outputs": [
    {
     "data": {
      "text/plain": [
       "[1, 2, 3, 4, 'a', 'b', 'c', 'x', 'y', 'z']"
      ]
     },
     "execution_count": 28,
     "metadata": {},
     "output_type": "execute_result"
    }
   ],
   "source": [
    "a + b + ['x', 'y', 'z']"
   ]
  },
  {
   "cell_type": "markdown",
   "id": "f7db17e4-3655-4c01-905f-8c8445019b9b",
   "metadata": {},
   "source": [
    "#### Repeatition(*):\n",
    "we can repeate the list by using * operator"
   ]
  },
  {
   "cell_type": "code",
   "execution_count": 29,
   "id": "9840f813-4cb1-40d9-a0e4-73ea02a01a67",
   "metadata": {},
   "outputs": [
    {
     "data": {
      "text/plain": [
       "[1,\n",
       " 2.34,\n",
       " 'Hello',\n",
       " False,\n",
       " 'Hello',\n",
       " 1,\n",
       " 1,\n",
       " 2.34,\n",
       " 'Hello',\n",
       " False,\n",
       " 'Hello',\n",
       " 1,\n",
       " 1,\n",
       " 2.34,\n",
       " 'Hello',\n",
       " False,\n",
       " 'Hello',\n",
       " 1]"
      ]
     },
     "execution_count": 29,
     "metadata": {},
     "output_type": "execute_result"
    }
   ],
   "source": [
    "l * 3  # l + l + l"
   ]
  },
  {
   "cell_type": "code",
   "execution_count": 30,
   "id": "ca23dad0-8e8e-4ed9-9eff-3dec9ce229a4",
   "metadata": {},
   "outputs": [
    {
     "data": {
      "text/plain": [
       "['a', 'b', 'c', 'a', 'b', 'c']"
      ]
     },
     "execution_count": 30,
     "metadata": {},
     "output_type": "execute_result"
    }
   ],
   "source": [
    "['a', 'b', 'c'] * 2  "
   ]
  },
  {
   "cell_type": "markdown",
   "id": "d32c85cd-b951-4990-acb2-77e32ffe9010",
   "metadata": {
    "jp-MarkdownHeadingCollapsed": true
   },
   "source": [
    "#### len of the list\n",
    "we can get the len of the list or number of elements in the list by using len() function"
   ]
  },
  {
   "cell_type": "code",
   "execution_count": 36,
   "id": "73c0aac3-1882-4955-968d-3ff01d1f6ce5",
   "metadata": {},
   "outputs": [
    {
     "data": {
      "text/plain": [
       "[1, 2.34, 'Hello', False, 'Hello', 1]"
      ]
     },
     "execution_count": 36,
     "metadata": {},
     "output_type": "execute_result"
    }
   ],
   "source": [
    "l"
   ]
  },
  {
   "cell_type": "code",
   "execution_count": 35,
   "id": "9592617b-d5ce-43bd-93b4-0f42e2355a0c",
   "metadata": {},
   "outputs": [
    {
     "data": {
      "text/plain": [
       "6"
      ]
     },
     "execution_count": 35,
     "metadata": {},
     "output_type": "execute_result"
    }
   ],
   "source": [
    "len(l)"
   ]
  },
  {
   "cell_type": "markdown",
   "id": "17b09c6a-2bb7-480e-b0f8-3d071913769a",
   "metadata": {
    "jp-MarkdownHeadingCollapsed": true
   },
   "source": [
    "### list methods"
   ]
  },
  {
   "cell_type": "code",
   "execution_count": 59,
   "id": "fd970f7e-9f13-4f14-ac26-5565faebfaff",
   "metadata": {},
   "outputs": [
    {
     "data": {
      "text/plain": [
       "['__add__',\n",
       " '__class__',\n",
       " '__class_getitem__',\n",
       " '__contains__',\n",
       " '__delattr__',\n",
       " '__delitem__',\n",
       " '__dir__',\n",
       " '__doc__',\n",
       " '__eq__',\n",
       " '__format__',\n",
       " '__ge__',\n",
       " '__getattribute__',\n",
       " '__getitem__',\n",
       " '__getstate__',\n",
       " '__gt__',\n",
       " '__hash__',\n",
       " '__iadd__',\n",
       " '__imul__',\n",
       " '__init__',\n",
       " '__init_subclass__',\n",
       " '__iter__',\n",
       " '__le__',\n",
       " '__len__',\n",
       " '__lt__',\n",
       " '__mul__',\n",
       " '__ne__',\n",
       " '__new__',\n",
       " '__reduce__',\n",
       " '__reduce_ex__',\n",
       " '__repr__',\n",
       " '__reversed__',\n",
       " '__rmul__',\n",
       " '__setattr__',\n",
       " '__setitem__',\n",
       " '__sizeof__',\n",
       " '__str__',\n",
       " '__subclasshook__',\n",
       " 'append',\n",
       " 'clear',\n",
       " 'copy',\n",
       " 'count',\n",
       " 'extend',\n",
       " 'index',\n",
       " 'insert',\n",
       " 'pop',\n",
       " 'remove',\n",
       " 'reverse',\n",
       " 'sort']"
      ]
     },
     "execution_count": 59,
     "metadata": {},
     "output_type": "execute_result"
    }
   ],
   "source": [
    "dir(list)"
   ]
  },
  {
   "cell_type": "code",
   "execution_count": 39,
   "id": "8a34784b-76c2-44ee-8428-beb09931ecca",
   "metadata": {},
   "outputs": [],
   "source": [
    "pets = ['cat', 'dog', 'cow', 'rabbit']"
   ]
  },
  {
   "cell_type": "code",
   "execution_count": 33,
   "id": "89b827ce-a553-42f3-8276-a8dda1086531",
   "metadata": {},
   "outputs": [],
   "source": [
    "# 1. append:\n",
    "# it adds the new element at the end of the list\n",
    "pets.append('horse')"
   ]
  },
  {
   "cell_type": "code",
   "execution_count": 34,
   "id": "338b9abd-ba38-4462-9e04-db0f13a184e0",
   "metadata": {},
   "outputs": [
    {
     "data": {
      "text/plain": [
       "['cat', 'dog', 'cow', 'rabbit', 'horse']"
      ]
     },
     "execution_count": 34,
     "metadata": {},
     "output_type": "execute_result"
    }
   ],
   "source": [
    "pets"
   ]
  },
  {
   "cell_type": "code",
   "execution_count": 37,
   "id": "43fda302-feb8-49b2-9fe2-241d2d3df65e",
   "metadata": {},
   "outputs": [],
   "source": [
    "# 2. clear:\n",
    "# it removes all the elements from the list and returns the empyt list\n",
    "pets.clear()"
   ]
  },
  {
   "cell_type": "code",
   "execution_count": 38,
   "id": "0fa2d01d-59c1-4505-9f66-c93119fcaa53",
   "metadata": {},
   "outputs": [
    {
     "data": {
      "text/plain": [
       "[]"
      ]
     },
     "execution_count": 38,
     "metadata": {},
     "output_type": "execute_result"
    }
   ],
   "source": [
    "pets"
   ]
  },
  {
   "cell_type": "code",
   "execution_count": 40,
   "id": "81493068-000c-4285-aeda-05e19347ca58",
   "metadata": {},
   "outputs": [
    {
     "data": {
      "text/plain": [
       "['cat', 'dog', 'cow', 'rabbit']"
      ]
     },
     "execution_count": 40,
     "metadata": {},
     "output_type": "execute_result"
    }
   ],
   "source": [
    "# 3. copy:\n",
    "# it copies one list data into another variable\n",
    "pets"
   ]
  },
  {
   "cell_type": "code",
   "execution_count": 41,
   "id": "99ef5794-8d26-40e7-a3df-0c78b0e74c64",
   "metadata": {},
   "outputs": [],
   "source": [
    "pets_copy = pets.copy()"
   ]
  },
  {
   "cell_type": "code",
   "execution_count": 42,
   "id": "d79e731a-5b9e-487a-8c65-081d7ff6c6bd",
   "metadata": {},
   "outputs": [
    {
     "data": {
      "text/plain": [
       "['cat', 'dog', 'cow', 'rabbit']"
      ]
     },
     "execution_count": 42,
     "metadata": {},
     "output_type": "execute_result"
    }
   ],
   "source": [
    "pets_copy"
   ]
  },
  {
   "cell_type": "code",
   "execution_count": 43,
   "id": "e0cf5ae3-ebc4-48d6-b637-9ea14d85ae97",
   "metadata": {},
   "outputs": [
    {
     "data": {
      "text/plain": [
       "2094069677568"
      ]
     },
     "execution_count": 43,
     "metadata": {},
     "output_type": "execute_result"
    }
   ],
   "source": [
    "id(pets)"
   ]
  },
  {
   "cell_type": "code",
   "execution_count": 44,
   "id": "664f11e9-a2f3-4620-a21d-b5f22b07b15a",
   "metadata": {},
   "outputs": [
    {
     "data": {
      "text/plain": [
       "2094070071360"
      ]
     },
     "execution_count": 44,
     "metadata": {},
     "output_type": "execute_result"
    }
   ],
   "source": [
    "id(pets_copy)"
   ]
  },
  {
   "cell_type": "code",
   "execution_count": 45,
   "id": "310e1ccf-582a-4b8c-a3b7-6f386619518e",
   "metadata": {},
   "outputs": [
    {
     "data": {
      "text/plain": [
       "['cat', 'dog', 'cow', 'rabbit', 'horse']"
      ]
     },
     "execution_count": 45,
     "metadata": {},
     "output_type": "execute_result"
    }
   ],
   "source": [
    "pets_copy.append('horse')\n",
    "pets_copy"
   ]
  },
  {
   "cell_type": "code",
   "execution_count": 46,
   "id": "aa8d2a8d-fb8e-43c4-a89d-aecad8825ed4",
   "metadata": {},
   "outputs": [
    {
     "data": {
      "text/plain": [
       "['cat', 'dog', 'cow', 'rabbit']"
      ]
     },
     "execution_count": 46,
     "metadata": {},
     "output_type": "execute_result"
    }
   ],
   "source": [
    "pets"
   ]
  },
  {
   "cell_type": "code",
   "execution_count": 47,
   "id": "34cb91a5-b7e7-4ff3-9db3-47bd690becae",
   "metadata": {},
   "outputs": [
    {
     "data": {
      "text/plain": [
       "False"
      ]
     },
     "execution_count": 47,
     "metadata": {},
     "output_type": "execute_result"
    }
   ],
   "source": [
    "pets is pets_copy"
   ]
  },
  {
   "cell_type": "code",
   "execution_count": 49,
   "id": "1ec12a9c-199b-49c8-a3b9-b04633c759bb",
   "metadata": {},
   "outputs": [
    {
     "data": {
      "text/plain": [
       "['cat', 'dog', 'cow', 'rabbit']"
      ]
     },
     "execution_count": 49,
     "metadata": {},
     "output_type": "execute_result"
    }
   ],
   "source": [
    "# 4. count:\n",
    "# it returns the count of the specified element\n",
    "pets"
   ]
  },
  {
   "cell_type": "code",
   "execution_count": 50,
   "id": "f573a1fd-7f7c-45c7-89d1-c5051a6ddbd6",
   "metadata": {},
   "outputs": [
    {
     "data": {
      "text/plain": [
       "1"
      ]
     },
     "execution_count": 50,
     "metadata": {},
     "output_type": "execute_result"
    }
   ],
   "source": [
    "pets.count('dog')"
   ]
  },
  {
   "cell_type": "code",
   "execution_count": 51,
   "id": "0dc5f7fb-3b01-4d09-835b-ca18a84cf65c",
   "metadata": {},
   "outputs": [
    {
     "data": {
      "text/plain": [
       "0"
      ]
     },
     "execution_count": 51,
     "metadata": {},
     "output_type": "execute_result"
    }
   ],
   "source": [
    "pets.count('parrot')"
   ]
  },
  {
   "cell_type": "code",
   "execution_count": 52,
   "id": "f60455d8-ee7b-4020-a5c6-4fee0fabe604",
   "metadata": {},
   "outputs": [],
   "source": [
    "pets.append('dog')"
   ]
  },
  {
   "cell_type": "code",
   "execution_count": 53,
   "id": "24e428cd-feaa-4960-a317-55b9c000aa15",
   "metadata": {},
   "outputs": [
    {
     "data": {
      "text/plain": [
       "['cat', 'dog', 'cow', 'rabbit', 'dog']"
      ]
     },
     "execution_count": 53,
     "metadata": {},
     "output_type": "execute_result"
    }
   ],
   "source": [
    "pets"
   ]
  },
  {
   "cell_type": "code",
   "execution_count": 54,
   "id": "b33051b5-6459-44b0-acde-e17bad6db66c",
   "metadata": {},
   "outputs": [
    {
     "data": {
      "text/plain": [
       "2"
      ]
     },
     "execution_count": 54,
     "metadata": {},
     "output_type": "execute_result"
    }
   ],
   "source": [
    "pets.count('dog')"
   ]
  },
  {
   "cell_type": "code",
   "execution_count": 55,
   "id": "444e4069-083f-4181-ac0d-a1cde0efaec0",
   "metadata": {},
   "outputs": [],
   "source": [
    "# 5. extend:\n",
    "# it adds list of elements in the list\n",
    "pets.extend(['parrot', 'bull', 'hen'])"
   ]
  },
  {
   "cell_type": "code",
   "execution_count": 56,
   "id": "1739d093-1795-4b05-8f68-ae70d08783f2",
   "metadata": {},
   "outputs": [
    {
     "data": {
      "text/plain": [
       "['cat', 'dog', 'cow', 'rabbit', 'dog', 'parrot', 'bull', 'hen']"
      ]
     },
     "execution_count": 56,
     "metadata": {},
     "output_type": "execute_result"
    }
   ],
   "source": [
    "pets"
   ]
  },
  {
   "cell_type": "code",
   "execution_count": 57,
   "id": "177a5406-d670-40c3-903c-91618670e8c6",
   "metadata": {},
   "outputs": [],
   "source": [
    "pets.append([1, 2, 3])"
   ]
  },
  {
   "cell_type": "code",
   "execution_count": 58,
   "id": "01a59458-ac72-4b06-9147-8dcecfd2fbd1",
   "metadata": {},
   "outputs": [
    {
     "data": {
      "text/plain": [
       "['cat', 'dog', 'cow', 'rabbit', 'dog', 'parrot', 'bull', 'hen', [1, 2, 3]]"
      ]
     },
     "execution_count": 58,
     "metadata": {},
     "output_type": "execute_result"
    }
   ],
   "source": [
    "pets"
   ]
  },
  {
   "cell_type": "code",
   "execution_count": 60,
   "id": "2149c078-ad0d-4b3e-bb8d-be6d3add3aa9",
   "metadata": {},
   "outputs": [
    {
     "data": {
      "text/plain": [
       "1"
      ]
     },
     "execution_count": 60,
     "metadata": {},
     "output_type": "execute_result"
    }
   ],
   "source": [
    "# 6. index:\n",
    "# it returns the lowest index of the specified element\n",
    "# if the element is present we will the lowest index \n",
    "# if element is not present we will the value error\n",
    "pets.index('dog')"
   ]
  },
  {
   "cell_type": "code",
   "execution_count": 61,
   "id": "2ea10c2a-1231-408d-a176-15d998d316df",
   "metadata": {},
   "outputs": [
    {
     "ename": "ValueError",
     "evalue": "'horse' is not in list",
     "output_type": "error",
     "traceback": [
      "\u001b[1;31m---------------------------------------------------------------------------\u001b[0m",
      "\u001b[1;31mValueError\u001b[0m                                Traceback (most recent call last)",
      "Cell \u001b[1;32mIn[61], line 1\u001b[0m\n\u001b[1;32m----> 1\u001b[0m \u001b[43mpets\u001b[49m\u001b[38;5;241;43m.\u001b[39;49m\u001b[43mindex\u001b[49m\u001b[43m(\u001b[49m\u001b[38;5;124;43m'\u001b[39;49m\u001b[38;5;124;43mhorse\u001b[39;49m\u001b[38;5;124;43m'\u001b[39;49m\u001b[43m)\u001b[49m\n",
      "\u001b[1;31mValueError\u001b[0m: 'horse' is not in list"
     ]
    }
   ],
   "source": [
    "pets.index('horse')"
   ]
  },
  {
   "cell_type": "code",
   "execution_count": 63,
   "id": "c2b70e05-ae5c-40de-acc5-17c6ddc70b97",
   "metadata": {},
   "outputs": [
    {
     "data": {
      "text/plain": [
       "8"
      ]
     },
     "execution_count": 63,
     "metadata": {},
     "output_type": "execute_result"
    }
   ],
   "source": [
    "pets.index([1, 2, 3])"
   ]
  },
  {
   "cell_type": "code",
   "execution_count": 64,
   "id": "9fdcdb8e-ce44-4322-8f72-7c99766d46d8",
   "metadata": {},
   "outputs": [
    {
     "data": {
      "text/plain": [
       "['cat', 'dog', 'cow', 'rabbit', 'dog', 'parrot', 'bull', 'hen', [1, 2, 3]]"
      ]
     },
     "execution_count": 64,
     "metadata": {},
     "output_type": "execute_result"
    }
   ],
   "source": [
    "# 7. insert:\n",
    "# it inserts the element at specified index\n",
    "pets"
   ]
  },
  {
   "cell_type": "code",
   "execution_count": 65,
   "id": "f949efb3-9feb-4c68-9e7a-80f0e3b6ef61",
   "metadata": {},
   "outputs": [],
   "source": [
    "pets.insert(3, 'horse')"
   ]
  },
  {
   "cell_type": "code",
   "execution_count": 66,
   "id": "ba3a2858-7bfc-4281-8d97-af288d4585cc",
   "metadata": {},
   "outputs": [
    {
     "data": {
      "text/plain": [
       "['cat',\n",
       " 'dog',\n",
       " 'cow',\n",
       " 'horse',\n",
       " 'rabbit',\n",
       " 'dog',\n",
       " 'parrot',\n",
       " 'bull',\n",
       " 'hen',\n",
       " [1, 2, 3]]"
      ]
     },
     "execution_count": 66,
     "metadata": {},
     "output_type": "execute_result"
    }
   ],
   "source": [
    "pets"
   ]
  },
  {
   "cell_type": "code",
   "execution_count": 67,
   "id": "fe725432-328e-422e-ba0c-c94ad84e35ba",
   "metadata": {},
   "outputs": [],
   "source": [
    "pets.insert(-2, 'peacock')"
   ]
  },
  {
   "cell_type": "code",
   "execution_count": 68,
   "id": "9c73eb44-64f1-4fd4-b963-714aca65e3d3",
   "metadata": {},
   "outputs": [
    {
     "data": {
      "text/plain": [
       "['cat',\n",
       " 'dog',\n",
       " 'cow',\n",
       " 'horse',\n",
       " 'rabbit',\n",
       " 'dog',\n",
       " 'parrot',\n",
       " 'bull',\n",
       " 'peacock',\n",
       " 'hen',\n",
       " [1, 2, 3]]"
      ]
     },
     "execution_count": 68,
     "metadata": {},
     "output_type": "execute_result"
    }
   ],
   "source": [
    "pets"
   ]
  },
  {
   "cell_type": "code",
   "execution_count": 69,
   "id": "c83b7037-f448-4aae-a001-d12b70841891",
   "metadata": {},
   "outputs": [],
   "source": [
    "pets.insert(-1, 'anything')"
   ]
  },
  {
   "cell_type": "code",
   "execution_count": 70,
   "id": "39dc558d-e67c-4d86-a603-d323eb945243",
   "metadata": {},
   "outputs": [
    {
     "data": {
      "text/plain": [
       "['cat',\n",
       " 'dog',\n",
       " 'cow',\n",
       " 'horse',\n",
       " 'rabbit',\n",
       " 'dog',\n",
       " 'parrot',\n",
       " 'bull',\n",
       " 'peacock',\n",
       " 'hen',\n",
       " 'anything',\n",
       " [1, 2, 3]]"
      ]
     },
     "execution_count": 70,
     "metadata": {},
     "output_type": "execute_result"
    }
   ],
   "source": [
    "pets"
   ]
  },
  {
   "cell_type": "code",
   "execution_count": 71,
   "id": "9c1ee968-fed5-4b9b-b629-8f5801346f89",
   "metadata": {},
   "outputs": [
    {
     "data": {
      "text/plain": [
       "12"
      ]
     },
     "execution_count": 71,
     "metadata": {},
     "output_type": "execute_result"
    }
   ],
   "source": [
    "len(pets)"
   ]
  },
  {
   "cell_type": "code",
   "execution_count": 72,
   "id": "2c6b89d9-1e1b-4ac0-ad58-d8499cc7f866",
   "metadata": {},
   "outputs": [
    {
     "data": {
      "text/plain": [
       "11"
      ]
     },
     "execution_count": 72,
     "metadata": {},
     "output_type": "execute_result"
    }
   ],
   "source": [
    "pets.index([1, 2, 3])"
   ]
  },
  {
   "cell_type": "code",
   "execution_count": 73,
   "id": "e698f2ba-c83d-45de-8a59-b0ef8cea069f",
   "metadata": {},
   "outputs": [],
   "source": [
    "pets.insert(len(pets) - 1, 'something')"
   ]
  },
  {
   "cell_type": "code",
   "execution_count": 74,
   "id": "4703b28d-6c4e-408f-92c3-e040605fa266",
   "metadata": {},
   "outputs": [
    {
     "data": {
      "text/plain": [
       "['cat',\n",
       " 'dog',\n",
       " 'cow',\n",
       " 'horse',\n",
       " 'rabbit',\n",
       " 'dog',\n",
       " 'parrot',\n",
       " 'bull',\n",
       " 'peacock',\n",
       " 'hen',\n",
       " 'anything',\n",
       " 'something',\n",
       " [1, 2, 3]]"
      ]
     },
     "execution_count": 74,
     "metadata": {},
     "output_type": "execute_result"
    }
   ],
   "source": [
    "pets"
   ]
  },
  {
   "cell_type": "code",
   "execution_count": 75,
   "id": "0b3807ea-d246-41b9-aaf9-2101dc5ff3ce",
   "metadata": {},
   "outputs": [
    {
     "data": {
      "text/plain": [
       "13"
      ]
     },
     "execution_count": 75,
     "metadata": {},
     "output_type": "execute_result"
    }
   ],
   "source": [
    "len(pets)"
   ]
  },
  {
   "cell_type": "code",
   "execution_count": 76,
   "id": "06157c9d-f678-4653-9608-6e108f3e35b6",
   "metadata": {},
   "outputs": [],
   "source": [
    "pets.insert(14, 'a')"
   ]
  },
  {
   "cell_type": "code",
   "execution_count": 77,
   "id": "3a279421-25a9-48f0-a5d7-3d782fd0cd47",
   "metadata": {},
   "outputs": [
    {
     "data": {
      "text/plain": [
       "['cat',\n",
       " 'dog',\n",
       " 'cow',\n",
       " 'horse',\n",
       " 'rabbit',\n",
       " 'dog',\n",
       " 'parrot',\n",
       " 'bull',\n",
       " 'peacock',\n",
       " 'hen',\n",
       " 'anything',\n",
       " 'something',\n",
       " [1, 2, 3],\n",
       " 'a']"
      ]
     },
     "execution_count": 77,
     "metadata": {},
     "output_type": "execute_result"
    }
   ],
   "source": [
    "pets"
   ]
  },
  {
   "cell_type": "code",
   "execution_count": 78,
   "id": "5583f6b7-e99f-4dbe-8ce9-95d1643863ce",
   "metadata": {},
   "outputs": [],
   "source": [
    "pets.insert(142343535345, 'b')"
   ]
  },
  {
   "cell_type": "code",
   "execution_count": 79,
   "id": "495bcec6-b616-4650-9d74-e65a79d762e1",
   "metadata": {},
   "outputs": [
    {
     "data": {
      "text/plain": [
       "['cat',\n",
       " 'dog',\n",
       " 'cow',\n",
       " 'horse',\n",
       " 'rabbit',\n",
       " 'dog',\n",
       " 'parrot',\n",
       " 'bull',\n",
       " 'peacock',\n",
       " 'hen',\n",
       " 'anything',\n",
       " 'something',\n",
       " [1, 2, 3],\n",
       " 'a',\n",
       " 'b']"
      ]
     },
     "execution_count": 79,
     "metadata": {},
     "output_type": "execute_result"
    }
   ],
   "source": [
    "pets"
   ]
  },
  {
   "cell_type": "code",
   "execution_count": 80,
   "id": "331f10aa-b2f4-45a9-86c6-452e370ec850",
   "metadata": {},
   "outputs": [
    {
     "data": {
      "text/plain": [
       "'b'"
      ]
     },
     "execution_count": 80,
     "metadata": {},
     "output_type": "execute_result"
    }
   ],
   "source": [
    "# 8. pop:\n",
    "# it removes and returns the last element from the list\n",
    "pets.pop()"
   ]
  },
  {
   "cell_type": "code",
   "execution_count": 81,
   "id": "34608445-1d52-4a06-8ceb-7c7646784e79",
   "metadata": {},
   "outputs": [
    {
     "data": {
      "text/plain": [
       "['cat',\n",
       " 'dog',\n",
       " 'cow',\n",
       " 'horse',\n",
       " 'rabbit',\n",
       " 'dog',\n",
       " 'parrot',\n",
       " 'bull',\n",
       " 'peacock',\n",
       " 'hen',\n",
       " 'anything',\n",
       " 'something',\n",
       " [1, 2, 3],\n",
       " 'a']"
      ]
     },
     "execution_count": 81,
     "metadata": {},
     "output_type": "execute_result"
    }
   ],
   "source": [
    "pets"
   ]
  },
  {
   "cell_type": "code",
   "execution_count": 82,
   "id": "d127f03c-6285-41ef-a73f-eda01de534f8",
   "metadata": {},
   "outputs": [
    {
     "data": {
      "text/plain": [
       "'a'"
      ]
     },
     "execution_count": 82,
     "metadata": {},
     "output_type": "execute_result"
    }
   ],
   "source": [
    "pets.pop()"
   ]
  },
  {
   "cell_type": "code",
   "execution_count": 83,
   "id": "35048390-c6d9-404a-b57d-c00a19d48cc5",
   "metadata": {},
   "outputs": [
    {
     "data": {
      "text/plain": [
       "['cat',\n",
       " 'dog',\n",
       " 'cow',\n",
       " 'horse',\n",
       " 'rabbit',\n",
       " 'dog',\n",
       " 'parrot',\n",
       " 'bull',\n",
       " 'peacock',\n",
       " 'hen',\n",
       " 'anything',\n",
       " 'something',\n",
       " [1, 2, 3]]"
      ]
     },
     "execution_count": 83,
     "metadata": {},
     "output_type": "execute_result"
    }
   ],
   "source": [
    "pets"
   ]
  },
  {
   "cell_type": "code",
   "execution_count": 84,
   "id": "e70384d4-5461-431d-9d63-b91532093349",
   "metadata": {},
   "outputs": [],
   "source": [
    "# 9. remove:\n",
    "# it removes the specified element from the list\n",
    "# if the element is not present in the list it will give a value error\n",
    "pets.remove('anything')"
   ]
  },
  {
   "cell_type": "code",
   "execution_count": 85,
   "id": "64644dcc-34f8-42f0-969a-eeb70f3a6dc0",
   "metadata": {},
   "outputs": [
    {
     "data": {
      "text/plain": [
       "['cat',\n",
       " 'dog',\n",
       " 'cow',\n",
       " 'horse',\n",
       " 'rabbit',\n",
       " 'dog',\n",
       " 'parrot',\n",
       " 'bull',\n",
       " 'peacock',\n",
       " 'hen',\n",
       " 'something',\n",
       " [1, 2, 3]]"
      ]
     },
     "execution_count": 85,
     "metadata": {},
     "output_type": "execute_result"
    }
   ],
   "source": [
    "pets"
   ]
  },
  {
   "cell_type": "code",
   "execution_count": 86,
   "id": "6f2f51b2-9a03-40fd-b361-25fe51f265bd",
   "metadata": {},
   "outputs": [],
   "source": [
    "pets.remove('something')"
   ]
  },
  {
   "cell_type": "code",
   "execution_count": 87,
   "id": "ec4b2aee-fbb2-4aa9-a4e0-ebd6b6dc3c93",
   "metadata": {},
   "outputs": [
    {
     "data": {
      "text/plain": [
       "['cat',\n",
       " 'dog',\n",
       " 'cow',\n",
       " 'horse',\n",
       " 'rabbit',\n",
       " 'dog',\n",
       " 'parrot',\n",
       " 'bull',\n",
       " 'peacock',\n",
       " 'hen',\n",
       " [1, 2, 3]]"
      ]
     },
     "execution_count": 87,
     "metadata": {},
     "output_type": "execute_result"
    }
   ],
   "source": [
    "pets"
   ]
  },
  {
   "cell_type": "code",
   "execution_count": 88,
   "id": "00f5d679-73fe-4e46-8e78-a2729b685323",
   "metadata": {
    "scrolled": true
   },
   "outputs": [
    {
     "ename": "ValueError",
     "evalue": "list.remove(x): x not in list",
     "output_type": "error",
     "traceback": [
      "\u001b[1;31m---------------------------------------------------------------------------\u001b[0m",
      "\u001b[1;31mValueError\u001b[0m                                Traceback (most recent call last)",
      "Cell \u001b[1;32mIn[88], line 1\u001b[0m\n\u001b[1;32m----> 1\u001b[0m \u001b[43mpets\u001b[49m\u001b[38;5;241;43m.\u001b[39;49m\u001b[43mremove\u001b[49m\u001b[43m(\u001b[49m\u001b[38;5;124;43m'\u001b[39;49m\u001b[38;5;124;43manything\u001b[39;49m\u001b[38;5;124;43m'\u001b[39;49m\u001b[43m)\u001b[49m\n",
      "\u001b[1;31mValueError\u001b[0m: list.remove(x): x not in list"
     ]
    }
   ],
   "source": [
    "pets.remove('anything')"
   ]
  },
  {
   "cell_type": "code",
   "execution_count": 89,
   "id": "7373e467-a012-4547-ba85-df02e0a5aa38",
   "metadata": {},
   "outputs": [
    {
     "data": {
      "text/plain": [
       "['cat',\n",
       " 'dog',\n",
       " 'cow',\n",
       " 'horse',\n",
       " 'rabbit',\n",
       " 'dog',\n",
       " 'parrot',\n",
       " 'bull',\n",
       " 'peacock',\n",
       " 'hen',\n",
       " [1, 2, 3]]"
      ]
     },
     "execution_count": 89,
     "metadata": {},
     "output_type": "execute_result"
    }
   ],
   "source": [
    "# 10. reverse\n",
    "# it reverses the list in place\n",
    "pets"
   ]
  },
  {
   "cell_type": "code",
   "execution_count": 90,
   "id": "6e2b806c-3213-4fb3-934b-c85e237ac2fe",
   "metadata": {},
   "outputs": [],
   "source": [
    "pets.reverse()"
   ]
  },
  {
   "cell_type": "code",
   "execution_count": 91,
   "id": "793b50dd-6ca1-4c63-a7d0-47239534b459",
   "metadata": {},
   "outputs": [
    {
     "data": {
      "text/plain": [
       "[[1, 2, 3],\n",
       " 'hen',\n",
       " 'peacock',\n",
       " 'bull',\n",
       " 'parrot',\n",
       " 'dog',\n",
       " 'rabbit',\n",
       " 'horse',\n",
       " 'cow',\n",
       " 'dog',\n",
       " 'cat']"
      ]
     },
     "execution_count": 91,
     "metadata": {},
     "output_type": "execute_result"
    }
   ],
   "source": [
    "pets"
   ]
  },
  {
   "cell_type": "code",
   "execution_count": 93,
   "id": "6723d318-de08-4694-92cf-13b53a30dd4a",
   "metadata": {},
   "outputs": [
    {
     "data": {
      "text/plain": [
       "['cat',\n",
       " 'dog',\n",
       " 'cow',\n",
       " 'horse',\n",
       " 'rabbit',\n",
       " 'dog',\n",
       " 'parrot',\n",
       " 'bull',\n",
       " 'peacock',\n",
       " 'hen',\n",
       " [1, 2, 3]]"
      ]
     },
     "execution_count": 93,
     "metadata": {},
     "output_type": "execute_result"
    }
   ],
   "source": [
    "# prints the list in reverse order, does not actully modify the list\n",
    "pets[ : : -1]"
   ]
  },
  {
   "cell_type": "code",
   "execution_count": 94,
   "id": "1abc5a79-9fe4-4809-be38-a48fd29d182a",
   "metadata": {},
   "outputs": [
    {
     "data": {
      "text/plain": [
       "[[1, 2, 3],\n",
       " 'hen',\n",
       " 'peacock',\n",
       " 'bull',\n",
       " 'parrot',\n",
       " 'dog',\n",
       " 'rabbit',\n",
       " 'horse',\n",
       " 'cow',\n",
       " 'dog',\n",
       " 'cat']"
      ]
     },
     "execution_count": 94,
     "metadata": {},
     "output_type": "execute_result"
    }
   ],
   "source": [
    "pets"
   ]
  },
  {
   "cell_type": "code",
   "execution_count": 95,
   "id": "58e086ff-d9ae-47dd-bd01-c46734396593",
   "metadata": {},
   "outputs": [
    {
     "ename": "TypeError",
     "evalue": "'<' not supported between instances of 'str' and 'list'",
     "output_type": "error",
     "traceback": [
      "\u001b[1;31m---------------------------------------------------------------------------\u001b[0m",
      "\u001b[1;31mTypeError\u001b[0m                                 Traceback (most recent call last)",
      "Cell \u001b[1;32mIn[95], line 3\u001b[0m\n\u001b[0;32m      1\u001b[0m \u001b[38;5;66;03m# 11. sort:\u001b[39;00m\n\u001b[0;32m      2\u001b[0m \u001b[38;5;66;03m# it sorts the homogeneous list in ascending or descending order\u001b[39;00m\n\u001b[1;32m----> 3\u001b[0m \u001b[43mpets\u001b[49m\u001b[38;5;241;43m.\u001b[39;49m\u001b[43msort\u001b[49m\u001b[43m(\u001b[49m\u001b[43m)\u001b[49m\n",
      "\u001b[1;31mTypeError\u001b[0m: '<' not supported between instances of 'str' and 'list'"
     ]
    }
   ],
   "source": [
    "# 11. sort:\n",
    "# it sorts the homogeneous list in ascending or descending order\n",
    "pets.sort()"
   ]
  },
  {
   "cell_type": "code",
   "execution_count": 96,
   "id": "f5a4a22a-7084-4aa5-8d0d-913354315d11",
   "metadata": {},
   "outputs": [
    {
     "data": {
      "text/plain": [
       "[1, 5, 4, 2, 6, 'a', 'y', 'x', [4, 's']]"
      ]
     },
     "execution_count": 96,
     "metadata": {},
     "output_type": "execute_result"
    }
   ],
   "source": [
    "[1, 5, 4, 2, 6, 'a', 'y', 'x', [4, 's']]"
   ]
  },
  {
   "cell_type": "code",
   "execution_count": 97,
   "id": "1f798933-6d91-46c0-ad69-6e50f0df240d",
   "metadata": {},
   "outputs": [],
   "source": [
    "pets.remove([1, 2, 3])"
   ]
  },
  {
   "cell_type": "code",
   "execution_count": 98,
   "id": "5ca5c2dd-79eb-4fbd-a77e-94d88d275f6d",
   "metadata": {},
   "outputs": [
    {
     "data": {
      "text/plain": [
       "['hen',\n",
       " 'peacock',\n",
       " 'bull',\n",
       " 'parrot',\n",
       " 'dog',\n",
       " 'rabbit',\n",
       " 'horse',\n",
       " 'cow',\n",
       " 'dog',\n",
       " 'cat']"
      ]
     },
     "execution_count": 98,
     "metadata": {},
     "output_type": "execute_result"
    }
   ],
   "source": [
    "pets"
   ]
  },
  {
   "cell_type": "code",
   "execution_count": 99,
   "id": "93cf5e64-7df0-45f6-a5e2-e970c3ac6300",
   "metadata": {},
   "outputs": [],
   "source": [
    "pets.sort()"
   ]
  },
  {
   "cell_type": "code",
   "execution_count": 100,
   "id": "3df6d05b-631a-4b35-ae7d-e1fd4dea381d",
   "metadata": {},
   "outputs": [
    {
     "data": {
      "text/plain": [
       "['bull',\n",
       " 'cat',\n",
       " 'cow',\n",
       " 'dog',\n",
       " 'dog',\n",
       " 'hen',\n",
       " 'horse',\n",
       " 'parrot',\n",
       " 'peacock',\n",
       " 'rabbit']"
      ]
     },
     "execution_count": 100,
     "metadata": {},
     "output_type": "execute_result"
    }
   ],
   "source": [
    "pets"
   ]
  },
  {
   "cell_type": "code",
   "execution_count": 101,
   "id": "3d6b8883-7a03-45ab-8f76-492d795fb1a5",
   "metadata": {},
   "outputs": [],
   "source": [
    "pets.sort(reverse = True)"
   ]
  },
  {
   "cell_type": "code",
   "execution_count": 102,
   "id": "6da5733f-6726-4d90-8795-60eaf1e01c92",
   "metadata": {},
   "outputs": [
    {
     "data": {
      "text/plain": [
       "['rabbit',\n",
       " 'peacock',\n",
       " 'parrot',\n",
       " 'horse',\n",
       " 'hen',\n",
       " 'dog',\n",
       " 'dog',\n",
       " 'cow',\n",
       " 'cat',\n",
       " 'bull']"
      ]
     },
     "execution_count": 102,
     "metadata": {},
     "output_type": "execute_result"
    }
   ],
   "source": [
    "pets"
   ]
  },
  {
   "cell_type": "code",
   "execution_count": 103,
   "id": "2e90652d-7edb-43ae-92ca-d2ac2ba8fe55",
   "metadata": {},
   "outputs": [],
   "source": [
    "def returns_len(s):\n",
    "    return len(s)"
   ]
  },
  {
   "cell_type": "code",
   "execution_count": 104,
   "id": "ab197c99-4328-4655-9fa9-21b61eb17526",
   "metadata": {},
   "outputs": [],
   "source": [
    "# key parameter can take a function that defines a custom sorting order\n",
    "pets.sort(key = returns_len)"
   ]
  },
  {
   "cell_type": "code",
   "execution_count": 105,
   "id": "0199c0f4-1987-4dac-8128-d8f73afb807c",
   "metadata": {},
   "outputs": [
    {
     "data": {
      "text/plain": [
       "['hen',\n",
       " 'dog',\n",
       " 'dog',\n",
       " 'cow',\n",
       " 'cat',\n",
       " 'bull',\n",
       " 'horse',\n",
       " 'rabbit',\n",
       " 'parrot',\n",
       " 'peacock']"
      ]
     },
     "execution_count": 105,
     "metadata": {},
     "output_type": "execute_result"
    }
   ],
   "source": [
    "pets"
   ]
  },
  {
   "cell_type": "code",
   "execution_count": 106,
   "id": "65df7382-7cd1-4e3f-ac5c-4a9d9efe0431",
   "metadata": {},
   "outputs": [],
   "source": [
    "pets.sort()"
   ]
  },
  {
   "cell_type": "code",
   "execution_count": 107,
   "id": "38b6c095-2038-463d-adab-7899549e1d9d",
   "metadata": {},
   "outputs": [
    {
     "data": {
      "text/plain": [
       "['bull',\n",
       " 'cat',\n",
       " 'cow',\n",
       " 'dog',\n",
       " 'dog',\n",
       " 'hen',\n",
       " 'horse',\n",
       " 'parrot',\n",
       " 'peacock',\n",
       " 'rabbit']"
      ]
     },
     "execution_count": 107,
     "metadata": {},
     "output_type": "execute_result"
    }
   ],
   "source": [
    "pets"
   ]
  },
  {
   "cell_type": "markdown",
   "id": "9aec4065-7e86-4568-bee3-405cd2df638d",
   "metadata": {
    "jp-MarkdownHeadingCollapsed": true
   },
   "source": [
    "### Some Imporant functions"
   ]
  },
  {
   "cell_type": "code",
   "execution_count": 109,
   "id": "8c04ca1b-9332-4d8f-aa08-0f0428684dac",
   "metadata": {},
   "outputs": [
    {
     "data": {
      "text/plain": [
       "[0, 1, 2, 4, 5, 6, 7]"
      ]
     },
     "execution_count": 109,
     "metadata": {},
     "output_type": "execute_result"
    }
   ],
   "source": [
    "# sorted function\n",
    "# it returns the sorted copy of an iterable in the form of a list \n",
    "my_list = [4, 2, 5, 6, 1, 7, 0]\n",
    "sorted(my_list)"
   ]
  },
  {
   "cell_type": "code",
   "execution_count": 110,
   "id": "e9e3da5c-2788-4c89-8f75-f2063788da97",
   "metadata": {},
   "outputs": [
    {
     "data": {
      "text/plain": [
       "[4, 2, 5, 6, 1, 7, 0]"
      ]
     },
     "execution_count": 110,
     "metadata": {},
     "output_type": "execute_result"
    }
   ],
   "source": [
    "my_list"
   ]
  },
  {
   "cell_type": "code",
   "execution_count": 111,
   "id": "0ca6e8af-cbf3-42dd-9efc-48e47417eed6",
   "metadata": {},
   "outputs": [
    {
     "data": {
      "text/plain": [
       "['h', 'n', 'o', 'p', 't', 'y']"
      ]
     },
     "execution_count": 111,
     "metadata": {},
     "output_type": "execute_result"
    }
   ],
   "source": [
    "sorted('ptyhon')"
   ]
  },
  {
   "cell_type": "code",
   "execution_count": 112,
   "id": "534999a3-350d-49d9-b0a1-e68cc84b375c",
   "metadata": {},
   "outputs": [
    {
     "data": {
      "text/plain": [
       "[6, 1, 5, 2]"
      ]
     },
     "execution_count": 112,
     "metadata": {},
     "output_type": "execute_result"
    }
   ],
   "source": [
    "# reversed function:\n",
    "# it returns an iterator that reverses the sequences\n",
    "list(reversed([2, 5, 1, 6]))"
   ]
  },
  {
   "cell_type": "code",
   "execution_count": 113,
   "id": "9992b67e-a4f0-4ea9-a17e-f04d2b16a561",
   "metadata": {},
   "outputs": [
    {
     "data": {
      "text/plain": [
       "<list_reverseiterator at 0x1e79065efb0>"
      ]
     },
     "execution_count": 113,
     "metadata": {},
     "output_type": "execute_result"
    }
   ],
   "source": [
    "reversed([2, 5, 1, 6])"
   ]
  },
  {
   "cell_type": "code",
   "execution_count": 114,
   "id": "96e1dd0e-d138-48b6-ac57-62cf9c056e24",
   "metadata": {},
   "outputs": [
    {
     "name": "stdout",
     "output_type": "stream",
     "text": [
      "6\n",
      "1\n",
      "5\n",
      "2\n"
     ]
    }
   ],
   "source": [
    "for n in reversed([2, 5, 1, 6]):\n",
    "    print(n)"
   ]
  },
  {
   "cell_type": "code",
   "execution_count": 116,
   "id": "d11abfdf-3313-4937-acc2-fdb383487531",
   "metadata": {},
   "outputs": [
    {
     "data": {
      "text/plain": [
       "['o', 'l', 'l', 'e', 'H']"
      ]
     },
     "execution_count": 116,
     "metadata": {},
     "output_type": "execute_result"
    }
   ],
   "source": [
    "list(reversed('Hello'))"
   ]
  },
  {
   "cell_type": "code",
   "execution_count": 117,
   "id": "0200bd4b-2ed0-49a4-b2af-fbc7e3d5c789",
   "metadata": {},
   "outputs": [
    {
     "data": {
      "text/plain": [
       "'olleH'"
      ]
     },
     "execution_count": 117,
     "metadata": {},
     "output_type": "execute_result"
    }
   ],
   "source": [
    "''.join(list(reversed('Hello')))"
   ]
  },
  {
   "cell_type": "code",
   "execution_count": 120,
   "id": "480d1f2c-eb87-4f5e-8d21-b70eb302cd4d",
   "metadata": {},
   "outputs": [
    {
     "data": {
      "text/plain": [
       "14.34"
      ]
     },
     "execution_count": 120,
     "metadata": {},
     "output_type": "execute_result"
    }
   ],
   "source": [
    "# sum function:\n",
    "# it sums the numbers from the list\n",
    "num_list = [1, 4, 2, 5, 2.34]\n",
    "sum(num_list)"
   ]
  },
  {
   "cell_type": "code",
   "execution_count": 119,
   "id": "0a339c1c-2384-460a-b563-530faf285095",
   "metadata": {},
   "outputs": [
    {
     "ename": "TypeError",
     "evalue": "unsupported operand type(s) for +: 'int' and 'str'",
     "output_type": "error",
     "traceback": [
      "\u001b[1;31m---------------------------------------------------------------------------\u001b[0m",
      "\u001b[1;31mTypeError\u001b[0m                                 Traceback (most recent call last)",
      "Cell \u001b[1;32mIn[119], line 1\u001b[0m\n\u001b[1;32m----> 1\u001b[0m \u001b[38;5;28;43msum\u001b[39;49m\u001b[43m(\u001b[49m\u001b[43m[\u001b[49m\u001b[38;5;124;43m'\u001b[39;49m\u001b[38;5;124;43ma\u001b[39;49m\u001b[38;5;124;43m'\u001b[39;49m\u001b[43m,\u001b[49m\u001b[43m \u001b[49m\u001b[38;5;241;43m2\u001b[39;49m\u001b[43m,\u001b[49m\u001b[43m \u001b[49m\u001b[38;5;241;43m5\u001b[39;49m\u001b[43m,\u001b[49m\u001b[43m \u001b[49m\u001b[38;5;124;43m'\u001b[39;49m\u001b[38;5;124;43mx\u001b[39;49m\u001b[38;5;124;43m'\u001b[39;49m\u001b[43m]\u001b[49m\u001b[43m)\u001b[49m\n",
      "\u001b[1;31mTypeError\u001b[0m: unsupported operand type(s) for +: 'int' and 'str'"
     ]
    }
   ],
   "source": [
    "sum(['a', 2, 5, 'x'])"
   ]
  },
  {
   "cell_type": "code",
   "execution_count": 121,
   "id": "4a6e5d4a-f0da-41c8-8c3c-66f18d0ff9d9",
   "metadata": {},
   "outputs": [],
   "source": [
    "# min, max function:\n",
    "# min returns the minimum element\n",
    "    # if lists contains numbers only it will returns the lowest number\n",
    "    # if list contains string only it will return the lowest string in aplhabetical order\n",
    "# max returnst the maximum element\n",
    "    # if lists contains numbers only it will returns the highest number\n",
    "    # if list contains string only it will return the highest string in aplhabetical order"
   ]
  },
  {
   "cell_type": "code",
   "execution_count": 122,
   "id": "a49d7169-c2c4-445d-b832-adace7b7bc2e",
   "metadata": {},
   "outputs": [
    {
     "data": {
      "text/plain": [
       "[4, 2, 5, 6, 1, 7, 0]"
      ]
     },
     "execution_count": 122,
     "metadata": {},
     "output_type": "execute_result"
    }
   ],
   "source": [
    "my_list"
   ]
  },
  {
   "cell_type": "code",
   "execution_count": 123,
   "id": "5bed7307-4250-4fb7-8be4-531917a2a03c",
   "metadata": {},
   "outputs": [
    {
     "data": {
      "text/plain": [
       "0"
      ]
     },
     "execution_count": 123,
     "metadata": {},
     "output_type": "execute_result"
    }
   ],
   "source": [
    "min(my_list)"
   ]
  },
  {
   "cell_type": "code",
   "execution_count": 124,
   "id": "4a47f1fd-e09a-4e30-9842-d53decf0aed6",
   "metadata": {},
   "outputs": [
    {
     "data": {
      "text/plain": [
       "7"
      ]
     },
     "execution_count": 124,
     "metadata": {},
     "output_type": "execute_result"
    }
   ],
   "source": [
    "max(my_list)"
   ]
  },
  {
   "cell_type": "code",
   "execution_count": 125,
   "id": "3a664dac-78a0-425a-b88b-213f7fea88bd",
   "metadata": {},
   "outputs": [
    {
     "data": {
      "text/plain": [
       "['bull',\n",
       " 'cat',\n",
       " 'cow',\n",
       " 'dog',\n",
       " 'dog',\n",
       " 'hen',\n",
       " 'horse',\n",
       " 'parrot',\n",
       " 'peacock',\n",
       " 'rabbit']"
      ]
     },
     "execution_count": 125,
     "metadata": {},
     "output_type": "execute_result"
    }
   ],
   "source": [
    "pets"
   ]
  },
  {
   "cell_type": "code",
   "execution_count": 126,
   "id": "e6c37817-6741-4a1f-b9bc-3414fd9cff43",
   "metadata": {},
   "outputs": [
    {
     "data": {
      "text/plain": [
       "'bull'"
      ]
     },
     "execution_count": 126,
     "metadata": {},
     "output_type": "execute_result"
    }
   ],
   "source": [
    "min(pets)"
   ]
  },
  {
   "cell_type": "code",
   "execution_count": 127,
   "id": "bef85c07-bf43-482a-9529-5da6579376c4",
   "metadata": {},
   "outputs": [
    {
     "data": {
      "text/plain": [
       "'rabbit'"
      ]
     },
     "execution_count": 127,
     "metadata": {},
     "output_type": "execute_result"
    }
   ],
   "source": [
    "max(pets)"
   ]
  },
  {
   "cell_type": "code",
   "execution_count": 129,
   "id": "af278218-6802-4f1c-8df8-9e9c24740bdc",
   "metadata": {},
   "outputs": [
    {
     "ename": "TypeError",
     "evalue": "'<' not supported between instances of 'str' and 'int'",
     "output_type": "error",
     "traceback": [
      "\u001b[1;31m---------------------------------------------------------------------------\u001b[0m",
      "\u001b[1;31mTypeError\u001b[0m                                 Traceback (most recent call last)",
      "Cell \u001b[1;32mIn[129], line 1\u001b[0m\n\u001b[1;32m----> 1\u001b[0m \u001b[38;5;28;43mmin\u001b[39;49m\u001b[43m(\u001b[49m\u001b[43m[\u001b[49m\u001b[38;5;241;43m1\u001b[39;49m\u001b[43m,\u001b[49m\u001b[43m \u001b[49m\u001b[38;5;241;43m2\u001b[39;49m\u001b[43m,\u001b[49m\u001b[43m \u001b[49m\u001b[38;5;124;43m'\u001b[39;49m\u001b[38;5;124;43ma\u001b[39;49m\u001b[38;5;124;43m'\u001b[39;49m\u001b[43m,\u001b[49m\u001b[43m \u001b[49m\u001b[38;5;124;43m'\u001b[39;49m\u001b[38;5;124;43mapple\u001b[39;49m\u001b[38;5;124;43m'\u001b[39;49m\u001b[43m]\u001b[49m\u001b[43m)\u001b[49m\n",
      "\u001b[1;31mTypeError\u001b[0m: '<' not supported between instances of 'str' and 'int'"
     ]
    }
   ],
   "source": [
    "min([1, 2, 'a', 'apple'])"
   ]
  },
  {
   "cell_type": "markdown",
   "id": "6bc5c3d1-2c82-4251-b5ea-4afeb736bc07",
   "metadata": {
    "jp-MarkdownHeadingCollapsed": true
   },
   "source": [
    "### Traversing a list\n",
    "Traversing a list in Python means iterating through all the elements of the list, one by\n",
    "one, to perform some operation or gather information from each element. There are\n",
    "several ways to traverse a list in Python:"
   ]
  },
  {
   "cell_type": "raw",
   "id": "913cffe0-2ebe-4589-9b36-abcc49c164d8",
   "metadata": {},
   "source": [
    "Using a for Loop: The most common and straightforward way to traverse a list is by\n",
    "using a for loop. Here's an example:"
   ]
  },
  {
   "cell_type": "code",
   "execution_count": 130,
   "id": "a0bf2076-d7d7-4934-bdd9-ef7f8dce31a6",
   "metadata": {},
   "outputs": [
    {
     "name": "stdout",
     "output_type": "stream",
     "text": [
      "bull\n",
      "cat\n",
      "cow\n",
      "dog\n",
      "dog\n",
      "hen\n",
      "horse\n",
      "parrot\n",
      "peacock\n",
      "rabbit\n"
     ]
    }
   ],
   "source": [
    "for pet in pets:\n",
    "    print(pet)"
   ]
  },
  {
   "cell_type": "code",
   "execution_count": 131,
   "id": "d0cc2b7c-e0bc-429b-a554-7769bb2ba95c",
   "metadata": {},
   "outputs": [
    {
     "name": "stdout",
     "output_type": "stream",
     "text": [
      "1\n",
      "2\n",
      "3\n",
      "4\n"
     ]
    }
   ],
   "source": [
    "for num in [1, 2, 3, 4]:\n",
    "    print(num)"
   ]
  },
  {
   "cell_type": "code",
   "execution_count": 132,
   "id": "941523fa-fb28-49df-a5d0-ff57d2a48dcf",
   "metadata": {},
   "outputs": [
    {
     "name": "stdout",
     "output_type": "stream",
     "text": [
      "bull\n",
      "cat\n",
      "cow\n",
      "dog\n",
      "dog\n",
      "hen\n",
      "horse\n",
      "parrot\n",
      "peacock\n",
      "rabbit\n"
     ]
    }
   ],
   "source": [
    "for i in range(len(pets)):\n",
    "    print(pets[i])"
   ]
  },
  {
   "cell_type": "code",
   "execution_count": 133,
   "id": "a8c8baae-7ce5-419e-a889-fda6da411094",
   "metadata": {},
   "outputs": [
    {
     "name": "stdout",
     "output_type": "stream",
     "text": [
      "bull\n",
      "cat\n",
      "cow\n",
      "dog\n",
      "dog\n",
      "hen\n",
      "horse\n",
      "parrot\n",
      "peacock\n",
      "rabbit\n"
     ]
    }
   ],
   "source": [
    "i = 0\n",
    "while i < len(pets):\n",
    "    print(pets[i])\n",
    "    i += 1"
   ]
  },
  {
   "cell_type": "code",
   "execution_count": 135,
   "id": "a0f00155-6d44-4a4e-a527-5ae4becdefdc",
   "metadata": {},
   "outputs": [
    {
     "data": {
      "text/plain": [
       "[(0, 'bull'),\n",
       " (1, 'cat'),\n",
       " (2, 'cow'),\n",
       " (3, 'dog'),\n",
       " (4, 'dog'),\n",
       " (5, 'hen'),\n",
       " (6, 'horse'),\n",
       " (7, 'parrot'),\n",
       " (8, 'peacock'),\n",
       " (9, 'rabbit')]"
      ]
     },
     "execution_count": 135,
     "metadata": {},
     "output_type": "execute_result"
    }
   ],
   "source": [
    "# enumerate\n",
    "# it returns the list of tuples that contains the index and the element\n",
    "# If you need both the element and its index while traversing the list,\n",
    "# you can use the enumerate() function\n",
    "list(enumerate(pets))"
   ]
  },
  {
   "cell_type": "code",
   "execution_count": 136,
   "id": "c6af5ed6-7bab-43d5-a902-d036033f0d62",
   "metadata": {},
   "outputs": [
    {
     "name": "stdout",
     "output_type": "stream",
     "text": [
      "(0, 'bull')\n",
      "(1, 'cat')\n",
      "(2, 'cow')\n",
      "(3, 'dog')\n",
      "(4, 'dog')\n",
      "(5, 'hen')\n",
      "(6, 'horse')\n",
      "(7, 'parrot')\n",
      "(8, 'peacock')\n",
      "(9, 'rabbit')\n"
     ]
    }
   ],
   "source": [
    "for t in enumerate(pets):\n",
    "    print(t)"
   ]
  },
  {
   "cell_type": "code",
   "execution_count": 138,
   "id": "edf59a1c-9f15-4391-aa8a-27c85fdeed28",
   "metadata": {},
   "outputs": [
    {
     "name": "stdout",
     "output_type": "stream",
     "text": [
      "0  -->  bull\n",
      "1  -->  cat\n",
      "2  -->  cow\n",
      "3  -->  dog\n",
      "4  -->  dog\n",
      "5  -->  hen\n",
      "6  -->  horse\n",
      "7  -->  parrot\n",
      "8  -->  peacock\n",
      "9  -->  rabbit\n"
     ]
    }
   ],
   "source": [
    "for idx, pet in enumerate(pets):\n",
    "    print(idx, ' --> ', pet)"
   ]
  },
  {
   "cell_type": "markdown",
   "id": "c11a3c26-376a-48f7-8bf5-33149c14f450",
   "metadata": {
    "jp-MarkdownHeadingCollapsed": true
   },
   "source": [
    "### List Comprehension"
   ]
  },
  {
   "cell_type": "markdown",
   "id": "c2e304be-7088-4e4e-ab17-96b4ae53868f",
   "metadata": {},
   "source": [
    "* List comprehensions are a concise way to traverse and manipulate a list.\n",
    "* You can use them to create a new list or perform an action on each element.\n",
    "* List comprehension offers a shorter syntax when you want to create a new list based on\n",
    "the values of an existing list.\n"
   ]
  },
  {
   "cell_type": "code",
   "execution_count": null,
   "id": "6789f8a4-0216-4f74-b5a1-ba97727abe1c",
   "metadata": {},
   "outputs": [],
   "source": [
    "# syntax:\n",
    "# <var_name> = [var1 if <condition1> else var2 for var in <sequence> if <condition2>]"
   ]
  },
  {
   "cell_type": "code",
   "execution_count": 139,
   "id": "66cb88d4-1e2c-4461-aaa1-8572070505fe",
   "metadata": {},
   "outputs": [
    {
     "name": "stdout",
     "output_type": "stream",
     "text": [
      "['apple', 'banana', 'mango']\n"
     ]
    }
   ],
   "source": [
    "# ex. Suppose based on a list of fruits, you want a new list, containing only the fruits with the\n",
    "# letter \"a\" in the name.\n",
    "\n",
    "fruits = [\"apple\", \"banana\", \"cherry\", \"kiwi\", \"mango\"]\n",
    "new_list = []\n",
    "\n",
    "for fruit in fruits:\n",
    "    if \"a\" in fruit:\n",
    "        new_list.append(fruit)\n",
    "        \n",
    "print(new_list)"
   ]
  },
  {
   "cell_type": "code",
   "execution_count": 140,
   "id": "0a6671fb-e5e9-4e40-91d3-59895fdca3d6",
   "metadata": {},
   "outputs": [
    {
     "data": {
      "text/plain": [
       "['apple', 'banana', 'mango']"
      ]
     },
     "execution_count": 140,
     "metadata": {},
     "output_type": "execute_result"
    }
   ],
   "source": [
    "new_list_comp = [fruit for fruit in fruits if 'a' in fruit]\n",
    "new_list_comp"
   ]
  },
  {
   "cell_type": "code",
   "execution_count": 141,
   "id": "6217e6ea-a411-4191-9037-25e41ebd287c",
   "metadata": {},
   "outputs": [
    {
     "data": {
      "text/plain": [
       "[1, 4, 9, 16, 25]"
      ]
     },
     "execution_count": 141,
     "metadata": {},
     "output_type": "execute_result"
    }
   ],
   "source": [
    "my_list = [1, 2, 3, 4, 5]\n",
    "# Create a new list with squared elements\n",
    "sqr_list = [num ** 2 for num in my_list]\n",
    "sqr_list"
   ]
  },
  {
   "cell_type": "code",
   "execution_count": 142,
   "id": "ca7a5f04-a205-4359-b2ae-fa6f9bad4039",
   "metadata": {},
   "outputs": [
    {
     "name": "stdin",
     "output_type": "stream",
     "text": [
      "Enter a number:  10\n"
     ]
    },
    {
     "data": {
      "text/plain": [
       "[4, 16, 36, 64, 100]"
      ]
     },
     "execution_count": 142,
     "metadata": {},
     "output_type": "execute_result"
    }
   ],
   "source": [
    "# create a list of all the sqaures of even number from 1 to given number\n",
    "\n",
    "num = int(input('Enter a number: '))\n",
    "\n",
    "even_squares = [n ** 2 for n in range(1, num + 1) if n % 2 == 0]\n",
    "even_squares"
   ]
  },
  {
   "cell_type": "markdown",
   "id": "e0338262-d615-4b83-a6e7-2700ebadfd42",
   "metadata": {
    "jp-MarkdownHeadingCollapsed": true
   },
   "source": [
    "### Examples"
   ]
  },
  {
   "cell_type": "code",
   "execution_count": 146,
   "id": "b8ef4bba-66a0-4caf-a76a-7dc891120654",
   "metadata": {},
   "outputs": [
    {
     "data": {
      "text/plain": [
       "36"
      ]
     },
     "execution_count": 146,
     "metadata": {},
     "output_type": "execute_result"
    }
   ],
   "source": [
    "# lab Q1. Write a Python program to sum all the items in a list without using built in function\n",
    "my_list = [4, 2, 5, 1, 6, 9, 7, 2]\n",
    "# sum(my_list)\n",
    "\n",
    "sum_num = 0\n",
    "for num in my_list:\n",
    "    sum_num += num\n",
    "\n",
    "sum_num"
   ]
  },
  {
   "cell_type": "code",
   "execution_count": 148,
   "id": "0e79e53e-e823-40c8-af45-6da2cb52a1fa",
   "metadata": {},
   "outputs": [
    {
     "name": "stdout",
     "output_type": "stream",
     "text": [
      "min num from the list = 1\n",
      "max num from the list = 9\n"
     ]
    }
   ],
   "source": [
    "# lab Q2. Write a Python program to get the largest and smallest number from a list without\n",
    "# builtin functions.\n",
    "\n",
    "min_num = my_list[0]\n",
    "max_num = my_list[0]\n",
    "\n",
    "for num in my_list:\n",
    "    if num < min_num:\n",
    "        min_num = num\n",
    "    elif num > max_num:\n",
    "        max_num = num\n",
    "\n",
    "print(f'min num from the list = {min_num}\\nmax num from the list = {max_num}')"
   ]
  },
  {
   "cell_type": "code",
   "execution_count": null,
   "id": "e62ef238-2968-4225-951e-1e1a9cb4c6b7",
   "metadata": {},
   "outputs": [],
   "source": [
    "# lab Q3. Write a Python program to find duplicate values from a list and display those.\n",
    "\n",
    "# lab Q4. Write a Python program to split a given list into two parts where the length of the first\n",
    "# part of the list is given.\n",
    "# Original list:\n",
    "# [1, 1, 2, 3, 4, 4, 5, 1]\n",
    "# Length of the first part of the list: 3\n",
    "# Splitted the said list into two parts:\n",
    "# ([1, 1, 2], [3, 4, 4, 5, 1])\n",
    "\n",
    "# lab Q5. Write a Python program to traverse a given list in reverse order, and print the\n",
    "# elements with the original index.\n",
    "# Original list:\n",
    "# ['red', 'green', 'white', 'black']\n",
    "# Traverse the said list in reverse order:\n",
    "# black\n",
    "# white\n",
    "# green\n",
    "# red"
   ]
  }
 ],
 "metadata": {
  "kernelspec": {
   "display_name": "Python 3 (ipykernel)",
   "language": "python",
   "name": "python3"
  },
  "language_info": {
   "codemirror_mode": {
    "name": "ipython",
    "version": 3
   },
   "file_extension": ".py",
   "mimetype": "text/x-python",
   "name": "python",
   "nbconvert_exporter": "python",
   "pygments_lexer": "ipython3",
   "version": "3.13.1"
  }
 },
 "nbformat": 4,
 "nbformat_minor": 5
}
